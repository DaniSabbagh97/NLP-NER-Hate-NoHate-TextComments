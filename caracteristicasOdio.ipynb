{
 "cells": [
  {
   "cell_type": "markdown",
   "metadata": {},
   "source": [
    "**Universidad Internacional de La Rioja (UNIR) - Máster Universitario en Inteligencia Artificial - Procesamiento del Lenguaje Natural** "
   ]
  },
  {
   "cell_type": "markdown",
   "metadata": {},
   "source": [
    "***\n",
    "Datos del alumno (Nombre y Apellidos):\n",
    "\n",
    "Fecha:\n",
    "***"
   ]
  },
  {
   "cell_type": "markdown",
   "metadata": {},
   "source": [
    "<span style=\"font-size: 20pt; font-weight: bold; color: #0098cd;\">Trabajo: Named-Entity Recognition</span>\n",
    "\n",
    "**Objetivos** \n",
    "\n",
    "Con esta actividad se tratará de que el alumno se familiarice con el manejo de la librería spacy, así como con los conceptos básicos de manejo de las técnicas NER\n",
    "\n",
    "**Descripción**\n",
    "\n",
    "En esta actividad debes procesar de forma automática un texto en lenguaje natural para detectar características básicas en el mismo, y para identificar y etiquetar las ocurrencias de conceptos como localización, moneda, empresas, etc.\n",
    "\n",
    "En la primera parte del ejercicio se proporciona un código fuente a través del cual se lee un archivo de texto y se realiza un preprocesado del mismo. En esta parte el alumno tan sólo debe ejecutar y entender el código proporcionado.\n",
    "\n",
    "En la segunda parte del ejercicio se plantean una serie de preguntas que deben ser respondidas por el alumno. Cada pregunta deberá responderse con un fragmento de código fuente que esté acompañado de la explicación correspondiente. Para elaborar el código solicitado, el alumno deberá visitar la documentación de la librería spacy, cuyos enlaces se proporcionarán donde corresponda."
   ]
  },
  {
   "cell_type": "markdown",
   "metadata": {},
   "source": [
    "# Parte 1: carga y preprocesamiento del texto a analizar"
   ]
  },
  {
   "cell_type": "markdown",
   "metadata": {},
   "source": [
    "Observa las diferentes librerías que se están importando."
   ]
  },
  {
   "cell_type": "code",
   "execution_count": 2,
   "metadata": {},
   "outputs": [],
   "source": [
    "import pathlib\n",
    "import spacy\n",
    "import pandas as pd\n",
    "from spacy import displacy\n",
    "import csv\n",
    "import es_core_news_md"
   ]
  },
  {
   "cell_type": "markdown",
   "metadata": {},
   "source": [
    "El siguiente código simplemente carga y preprocesa el texto. Para ello, lo primero que hace es cargar un modelo de lenguaje previamente entrenado. En este caso, se utiliza <i>es_core_news_md</i>: \n",
    "\n",
    "https://spacy.io/models/es#es_core_news_md\n"
   ]
  },
  {
   "cell_type": "code",
   "execution_count": 3,
   "metadata": {},
   "outputs": [],
   "source": [
    "nlp = es_core_news_md.load()"
   ]
  },
  {
   "cell_type": "code",
   "execution_count": 4,
   "metadata": {},
   "outputs": [
    {
     "name": "stdout",
     "output_type": "stream",
     "text": [
      "ixer la primera revista musical popular de l'època, ¡cochero, al edén!, amb la vedet dolly i els pallassos pompoff i teddy.la degradació del barri xino va portar la pressió de la prostitució desesperada a la rambla, especialment a la zona de santa mònica i a la plaça del teatre. al passeig van mutar o van desaparèixer, abans d'acabar la dècada dels quaranta, locals com el suizo, el león de oro i l'excelsior: una barcelona que s'esvaïa mentre proliferava la bodega andalusa. la moda del cinema-espectacle la representava l'irregular principal palacio (obert un primerenc abril del 1939), el primer que va contractar una artista internacional des del 1939: joséphine baker. el vessant gastronòmic estava al carrer escudellers, amb l'exotisme de los caracoles o la força d'el charco de la pava, que, el 1947, amb una sala amb format d'arena taurina amb els seus burladeros i una figura de cartró de mida natural de manolete, tenia assidus i il·lustres artistes com carmen amaya, el pescaílla i la incipient lola flores, i clients com dalí.però la prostitució no tenia vedats prohibits, com denotava la seva presència fins i tot al flamant frontón colón i el principal palacio. tamisaven amb prou feines la imatge de la zona una boîte com el saratoga (1945, al carrer del pi, amb sessions de jazz, a les quals acudiria un tete montoliu de 14 anys) o, des del 1950, el folies: la voluntat de repescar glamur de regust parisenc i que va aconseguir que la flor i nata de la societat barcelonina (de l'aristocràtica família güell a kubala) el freqüentés; la cosa va aguantar fins al 1954, quan el local va sucumbir abduït pel lamentable ambient de la rambla, i no hi va ajudar gens l'arribada dels marines dels estats units a partir del 1951: amb els seus cinc dòlars per noia (respecte a les miserables 15 pessetes que cobraven) van dinamitar el paupèrrim equilibri d'una zona on tot es va convertir en “typical”.amb una revista poc suntuosa, de “fastuositat moderada, sense excessos argumentals i humor casolà de bon enfant”, com admetien els comentaristes de l'època, el paral·lel surava com podia. el molino era “l'únic fil sicalíptic” amb el passat de l'avinguda, recorda villar. però va ser només a partir del 1943 quan va fer triomfar vedets com mico (obligat, com tot travesti o homosexual, a actuar a l'escenari amb una dona per dissimular), maty mont i, sobretot, la bella dorita, que amb els seus cuplets frívols (la viuda; la pecera, on va canviar la lletra “pez raya” per “cigala”, que en català tenia el doble sentit sexual) i el pubis cobert per un justet triangle de tela va aconseguir que fos el local més multat de la ciutat i que mutessin en falques frases-concepte dels expedients administratius com “gestos a l'excés lúbrics i obscens” o “actuar amb vestuari alterat”.l'altre gran focus de popularitat de l'avinguda el van proporcionar, al teatro cómico, on ja triomfava a finals del 1941 raquel meller amb la violetera, arthur kaps i franz joham, amb el sobrenom de los vieneses, que des del maig del 1942 van generar en època de misèria fastuosos i moderns espectacles durant gairebé una dècada (luces de viena; viena es así; melodías del danubio…) que van marcar la memòria popular. el tancament, el 1947, de l'històric olimpia (amb aforament per a 6.000 espectadors) i el del gran café español (1948) van ser el tret de sortida de la gran garrotada urbanística a la zona.el nivell de l'oci pujava d'acord amb la geografia urbana. el grill del ritz (espanyolitzat parrilla després de la guerra), reobert ja l'abril del 1939, era de novel·la: espies, diplomàtics, empresaris i dones molt disposades conformaven una atmosfera tan luxosa com intrigant, però sempre amb componiment, a la neutral barcelona en plena segona guerra mundial, tot sota els acords de l'orquestra de bernard hilda, jueu fugit d'alemanya i amic del, amb el conflicte, enriquit industrial del cotó alberto puig palau, pel qual el músic es va fer espia dels aliats. tant el marfil (rambla de catalunya, del 1941) com el guinea (diagonal amb pau claris, del 1942) reflectien la posició tan catalana de vida alegre i amoral, però sense gaire estirabots ni escàndols. el primer tenia dos ambients: saló de te (bàsicament per a dones) i bar (homes), amb prostitució d'alt standing, queridas (moltes, models de pertegaz i de la propera santa eulàlia) i fulanas. el segon, de regust british (l'alcalde miguel mateu; el notari raimon noguera…), va ser el que va portar a paco gonzález ledesma a escriure allò de “donde la riqueza se codeaba con el hambre, recintos de prócer que elige y de chica a la que nunca han permitido elegir”. més freqüentat per les autoritats franquistes era el parador del hidalgo (passeig de gràcia, del 1939), on anava a menjar gent com el general ordaz o pilar primo de rivera, però on hi havia també prostitució clandestina, “con niñas de 16 años que tenían hambre”, recull villar.si l'avui esquerra de l'eixample era més popular (el río, del 1947, a floridablanca, contractava una ja descendent tot i que encara popular superartista francesa com mistinguett), la dreta era més la zona de bordells i de cases de cites o “de rebre”, en l'argot de l'època. només al quadrant de consell de cent, diputació, aribau i balmes n'hi havia set. la més gran, casa moreal (diputació 208, amb 35 senyoretes). tantes o més com a les anomenades “casas de tapadillo”, domicilis particulars on hi havia mestresses de casa, modistes, dependentes… i menors, de 16 a 19 anys, com recollien els informes policials. torres o xalets amb jardí eren més freqüents a gràcia (amb la discretíssima la casita blanca) i sant gervasi. en aquesta última, cal destacar la de la señora lola (copèrnic amb muntaner), centrada en “clients de gustos especials” i freqüentada per dalí. el pintor també acudia a la del carrer sant màrius, a dalt de tot de muntaner, com van fer orson welles, omar sharif, el rei fàisal o jean paul belmondo quan van trepitjar la ciutat. amb el preu adequat, qualsevol fantasia era possible.l'última i més exquisida frontera de l'oci de la barcelona de postguerra era a partir de la diagonal. amb alguns dels millors restaurants del moment (el parellada, el finisterre…), o el complex del windsor palace (planta, dos pisos, terrassa i aforament de 1.478 localitats: el gener del 1952 per dues actuacions van pagar a maurice chevalier la bogeria de 60.000 pessetes), el més chic i exclusiu se situava passats els locals de la plaça calvo sotelo (avui francesc macià: el bar sándor; la fastuosa sala de festes lamoga, amb porcellanes, taules i cadires de caoba…). tot va començar l'estiu del 1940: en una zona a mig urbanitzar fins a les portes del palau de pedralbes i d'esplugues van proliferar no menys de cinc grans restaurants a l'aire lliure, amb una ostentació de luxe inèdita, cosa que també va facilitar la feina a alguns atracadors i a la nímia resistència política, que hi va posar algunes bombes (gairebé totes fallides). a les tardes, als locals que freqüentava una burgesia estraperlista i les autoritats del règim, s'oferia te amb ball i a les nits, sopars americans amb espectacle modern (jazz, fox, swing), a més de banquets de tota mena. hi havia el copacabana, el cactos, el cortijo, el monterrey, la font del lleó…, però el més selecte va ser el rosaleda, en uns terrenys de la família godó i explotats pel ritz, en un projecte paisatgístic i arquitectònic d'adolf florensa: fonts, estanys, pèrgoles… cotxes de 12 places tirats per cavalls feien el trajecte des de l'hotel al local. eva perón hi va anar una nit, fora de protocol.acabada la segona guerra mundial, els propietaris d'aquests locals van entrar en una espiral de contractacions internacionals desaforades, amb artistes que venien directament de treballar a nova york. l'estiu del 1951, el rosaleda va pagar a charles trenet 200.000 pessetes per 12 dies. es deia que en pocs racons del món passava una cosa així. “esto huele a costa azul”, es va arribar a escriure.el globus va petar en menys d'una dècada: aquell mateix 1951, el rosaleda es va enfonsar; el van seguir d'altres. apunta villar que va ser “per falta de públic” davant d'un evident “excés d'oferta”. excés d'oferta de luxe a la barcelona franquista, grisa i miserable de principis dels cinquanta. quines coses.\";0.0;;;;;;;;;;\n",
      "\n"
     ]
    }
   ],
   "source": [
    "filename = \"./comentariosOdio.csv\"\n",
    "with open(filename, 'r', encoding='utf-8', errors='ignore') as file:\n",
    "        file.seek(229450)\n",
    "        content = file.readline()\n",
    "print(content)\n",
    "#data['CONTENIDO A ANALIZAR'].head(10)"
   ]
  },
  {
   "cell_type": "markdown",
   "metadata": {},
   "source": [
    "El objeto <i>nlp</i> permite utilizar el modelo de lenguaje cargado, de forma que se puede procesar un texto y obtenerlo en su versión preprocesada. Así, nos permite realizar las diferentes tareas. En este caso, vamos a utilizar el pipeline para hacer un preprocesamiento básico, que consiste en tokenizar el texto."
   ]
  },
  {
   "cell_type": "code",
   "execution_count": 5,
   "metadata": {},
   "outputs": [
    {
     "name": "stderr",
     "output_type": "stream",
     "text": [
      "C:\\Users\\Dani\\AppData\\Local\\Temp\\ipykernel_22204\\1961297887.py:3: DtypeWarning: Columns (5,6,7,8,9,10,11,12,13,14) have mixed types. Specify dtype option on import or set low_memory=False.\n",
      "  data = pd.read_csv(filename, delimiter=';', encoding=\"utf-8\", encoding_errors='ignore')\n"
     ]
    },
    {
     "data": {
      "text/plain": [
       "0                                                                                                                                                                                                                                                                                                                                                                                                                                                                                                                                                                                                                                                                                                                                                                                                                                                                                                                                                      el barça nunca acaeza ante un segundo b ni ante un tercera , ya estan los arbitros para impedirlo....lo de messi es una autentica vergüenza\n",
       "1    el real madrid ha puesto punto y final a su andadura en la copa del rey en el primer escalón. los de zidane han caído ante el alcoyano, de segunda b, a pesar de empezar ganando y jugar con un hombre menos en la prórroga. el técnico francés dispuso un equipo plagado de los menos habituales, con vinicius y mariano en ataque. ninguno de los dos logró crear ocasiones. fue militao el que marcó el gol del madrid, justo antes del descanso. en la segunda parte intentaron cerrar el partido, pero sin el colmillo suficiente y el modesto alcoyano aprovechó un córner para empatar el partido a cinco minutos para el final. el empate sentó como un jarro de agua fría a los blancos, que lo intentaron en el tiempo extra a falta de cinco minutos, el casanova consiguió el gol más importante de su vida, que vale la clasificación para octavos de la copa. el madrid de zidane queda apeado del torneo una vez más, por lo que el francés se quedará sin pelear por el único título que no ha conseguido nunca. así hemos contado el minuto a minuto del partido en directo:\n",
       "2                                                                                                                                                                                                                                                                                                  cristina cifuentes podría haber sido la presidenta de madrid que todavía añoran los madrileños, a la vista de lo que es ayuso. podría haber llegado a ser la presidenta del pp, de madrid, por supuesto, pero a nivel estatal quizás también. pero su mala cabeza hundió su futuro político en el fango, de donde es imposible regresar. qué necesidad tenía de demostrar que había sacado un máster, si ni siquiera casado lo tiene. urdió un plan, con amenazas y abuso de poder, para falsificar un documento oficial, penado con cárcel, que no necesitaba para su carrera política. y para rematar el desastre le pillaron hurtando unas cremas faciales que podría haber pagado tranquilamente, pero su cleptomanía oculta y la cámara indiscreta la destrozaron. una vergüenza de libro.\n",
       "3                                                                                                                                                                                                                                                                                                                                                                                                                                                                                                                                                                                                                                                                                                                                                                                                                                                                                                                                                                                            habría que reabrir el caso. el supremo se dedica a proteger a los de siempre. hay voluntad para ello?\n",
       "4                                                                                                                                                                                                                 me parece un poco exagerado pedir más de tres años de prisión a cifuentes por este caso. habría que investigar de quien destapó el caso, al igual que las cremas, seguro que fue de \"fuego amigo\", de alguien que no le interesaba que destapara los casos internos de corrupción en los peperos madrileños como amenazó. al menos esta mujer no se le conoce que se llevara dinero público ni que abasteciera al partido, estorbaba a mucha gente \"amiga\".  mucho más grave fue los del título académico  de casadete regalado con convalidaciones y su master de tres días de harvard en aravaca. comparada con la actual caótica, no tiene ni punto de comparación, que cuando habla sube el pan a costa de decir sandez tras sandez. mientras, la otra presidenta con título nobiliario, que llenó por lo menos al partido de dinero ilícito, sigue campando por sus anchas.\n",
       "5                                                                                                                                                                                                                                                                                                                                                                                                                                    parece que todos los delincuentes niegan las evidencias y pruebas hasta el ultimo momento. deberia sancionarse a aquellos delincuentes que prorrogan el juicio hasta limites insospechados, con pruebas irrefutables. si la directora en un rasgo de honestidad dice que falsifico y por orden de ... el \"hagan juego señores, no va mas\" deberia finalizarse. pero para que cifuentes haya delinquido se necesitan cooperadores y complices, de estos hay muchos, empezando por el rector, la asesora ... etc, etc. en la juan carlos i (vaya una casualidad, dios los cria y ellos se juntan) parece que hay mas irregularidades que en la sede del pp-vox.\n",
       "6                                                                                                                                                                                                                                                                                                                                                                                                                                                                                                                                                                                                                                                                                                                                                                                                                                                                                                                                  preguntárselo al fracasado, media carrera en 6 meses, un máster en aravaca eeuu y otro máster presencial sin ir a clase, este es el nivel de corrupción del pp.\n",
       "7                                                                                                                                                                                                                                                                                                                                                                                                                                                                                                                                                                                                                                                                                                                                                                          tenemos años para ver a esta asociación delictiva en los banquillos ante los jueces. más agilidad, sres. jueces y que reciban, ni más ni menos lo que les corresponde por sus corrupciones. pero tienen que caer todos, se llamen como se llamen, y devolver los 130 mil millones de euros que robaron a los españoles.\n",
       "8                                                                                                                                                                                                                                                                                                                                                                                                                                                                                                                                                                                                                                                                                                                                                                                                                                                                                                                una \"fardera\" como presidenta de la comunidad de madrid! cosas veredes. a quien molestaría que hasta sus propios compañeros filtraron el video de los potitos de crema a la tele?\n",
       "9                                                                                                                                                                                                                                                                                                                                                                                                                                                                                                                                                                                                                                                                                                                                                                                                                                                                                                                                                                                       uno a uno tienen que ir cayendo frente a la justicia los miembros de la asociación. basta ya de impunidad!\n",
       "Name: CONTENIDO A ANALIZAR, dtype: object"
      ]
     },
     "execution_count": 5,
     "metadata": {},
     "output_type": "execute_result"
    }
   ],
   "source": [
    "filename = \"./comentariosOdio.csv\"\n",
    "pd.set_option('display.max_colwidth', None)\n",
    "data = pd.read_csv(filename, delimiter=';', encoding=\"utf-8\", encoding_errors='ignore')  \n",
    "\n",
    "data['CONTENIDO A ANALIZAR'].head(10)\n",
    "#print(data.shape)"
   ]
  },
  {
   "cell_type": "markdown",
   "metadata": {},
   "source": [
    "El código anterior carga el archivo CSV (opcionalmente con un límite de líneas a leer) y genera la variable <i>data</i>, que contiene un Dataframe (https://pandas.pydata.org/docs/reference/api/pandas.DataFrame.html) con los datos leídos del CSV."
   ]
  },
  {
   "cell_type": "markdown",
   "metadata": {},
   "source": [
    "Te vendrá bien conocer la siguiente documentación:\n",
    "<ul>\n",
    "    <li>https://spacy.io/api/doc</li>\n",
    "    <li>https://spacy.io/api/token</li>\n",
    "    <li>https://spacy.io/api/morphology#morphanalysis</li>\n",
    "</ul>"
   ]
  },
  {
   "cell_type": "markdown",
   "metadata": {},
   "source": [
    "### Playground\n",
    "\n",
    "Utiliza este espacio para hacer pruebas y ensayos con las variables generadas con el código previo. A modo de ejemplo, se ofrece código que realiza las siguientes tareas: \n",
    "\n",
    "\n",
    "- leer un número dado de líneas del Dataframe y generar dos listas con los valores (se pueden leer directamente del DataFrame, se muestra el ejemplo como una opción más)\n",
    "- procesar el texto de cada comentario\n",
    "\n",
    "\n",
    "Para procesarlo, hay utilizar el objeto <i>nlp</i> y así obtener objetos de la clase <i>Doc</i> (https://spacy.io/api/doc)\n",
    "\n",
    "Visita la documentación de dicha clase y experimenta probando las diferentes funciones y atributos "
   ]
  },
  {
   "cell_type": "code",
   "execution_count": 6,
   "metadata": {},
   "outputs": [
    {
     "name": "stdout",
     "output_type": "stream",
     "text": [
      "Nombre Columna: Unnamed 9\n",
      "Nulos 574912\n",
      "Totales 574915\n",
      "No nulos:  3\n",
      "Nombre Columna: Unnamed 10\n",
      "Nulos 574912\n",
      "Totales 574915\n",
      "No nulos:  3\n",
      "Nombre Columna: Unnamed 11\n",
      "Nulos 574913\n",
      "Totales 574915\n",
      "No nulos:  2\n",
      "Nombre Columna: Unnamed 12\n",
      "Nulos 574913\n",
      "Totales 574915\n",
      "No nulos:  2\n",
      "Nombre Columna: Unnamed 13\n",
      "Nulos 574913\n",
      "Totales 574915\n",
      "No nulos:  2\n",
      "Nombre Columna: Unnamed 14\n",
      "Nulos 574913\n",
      "Totales 574915\n",
      "No nulos:  2\n",
      "Nombre Columna: Unnamed 15\n",
      "Nulos 574913\n",
      "Totales 574915\n",
      "No nulos:  2\n"
     ]
    }
   ],
   "source": [
    "#Al parecer existían 7 columnas que cada una contenía un total de 2 o 3 registros no nulos, parecían ser calles o lugares junto con números de calle.\n",
    "#Como me parecía información despreciable, con más de un 99% de contenido nulo he procedido a borrar las columnas de la Unnamed 9 a la 15.\n",
    "#Demostración\n",
    "for a in range(9,16):\n",
    "    nulos = data[f'Unnamed: {a}'].isnull().sum()\n",
    "    print(f\"Nombre Columna: Unnamed {a}\")\n",
    "    print(\"Nulos\", nulos)\n",
    "    print(\"Totales\",len(data))\n",
    "    print(\"No nulos: \", (len(data)-nulos))\n",
    "#Borrado:\n",
    "for b in range(9,16):\n",
    "    data = data.drop(f'Unnamed: {b}', axis=1)\n"
   ]
  },
  {
   "cell_type": "code",
   "execution_count": 7,
   "metadata": {},
   "outputs": [
    {
     "name": "stdout",
     "output_type": "stream",
     "text": [
      "0.0                           86.590887\n",
      "0.0                           11.222355\n",
      "4.0                            1.675900\n",
      "1.0                            0.229773\n",
      "4.0                            0.128715\n",
      "5.0                            0.035310\n",
      "3.0                            0.029570\n",
      "2.0                            0.025569\n",
      "1.0                            0.009741\n",
      "6.0                            0.001739\n",
      "5.0                            0.001392\n",
      "6.0                            0.000522\n",
      " la vila joiosa, 52            0.000348\n",
      "3.0                            0.000348\n",
      " tanya kozyreva en ucrania     0.000174\n",
      "2.0                            0.000174\n",
      "Name: INTENSIDAD, dtype: float64\n"
     ]
    }
   ],
   "source": [
    "'''\n",
    "nulos = data['INTENSIDAD'].isnull().sum()\n",
    "print(f\"Nombre Columna: INTENSIDAD\")\n",
    "print(\"Nulos\", nulos)\n",
    "print(\"Totales\",len(data))\n",
    "print(\"No nulos: \", (len(data)-nulos))\n",
    "data['INTENSIDAD'].head(1000)\n",
    "'''\n",
    "'''\n",
    "valores_unicos = data['INTENSIDAD'].unique()\n",
    "c = 0\n",
    "for i in valores_unicos:\n",
    "  print(i)\n",
    "  c=c+1\n",
    "print(c)\n",
    "'''\n",
    "\n",
    "conteo_valores = data['INTENSIDAD'].value_counts()\n",
    "\n",
    "porcentaje_valores = (conteo_valores / len(data)) * 100\n",
    "print(porcentaje_valores)"
   ]
  },
  {
   "cell_type": "code",
   "execution_count": 8,
   "metadata": {},
   "outputs": [
    {
     "name": "stdout",
     "output_type": "stream",
     "text": [
      "Se han borrado 3 filas.\n",
      "0.0    86.591339\n",
      "0.0    11.222413\n",
      "4.0     1.675909\n",
      "1.0     0.229774\n",
      "4.0     0.128715\n",
      "5.0     0.035310\n",
      "3.0     0.029570\n",
      "2.0     0.025569\n",
      "1.0     0.009741\n",
      "6.0     0.001739\n",
      "5.0     0.001392\n",
      "6.0     0.000522\n",
      "3.0     0.000348\n",
      "2.0     0.000174\n",
      "Name: INTENSIDAD, dtype: float64\n"
     ]
    }
   ],
   "source": [
    "import pandas as pd\n",
    "\n",
    "valores_no_deseados = [\" la vila joiosa, 52\", \" tanya kozyreva en ucrania\", 14] \n",
    "total_filas = len(data)\n",
    "data = data[~data['INTENSIDAD'].isin(valores_no_deseados)]\n",
    "filas_borradas = total_filas - len(data)\n",
    "print(\"Se han borrado\", filas_borradas, \"filas.\")\n",
    "conteo_valores = data['INTENSIDAD'].value_counts()\n",
    "\n",
    "porcentaje_valores = (conteo_valores / len(data)) * 100\n",
    "print(porcentaje_valores)"
   ]
  },
  {
   "cell_type": "code",
   "execution_count": 14,
   "metadata": {},
   "outputs": [],
   "source": [
    "# Eliminar filas con valores nulos en la columna 'CONTENIDO A ANALIZAR' y 'INTENSIDAD'\n",
    "data = data.dropna(subset=['CONTENIDO A ANALIZAR', 'INTENSIDAD'])\n"
   ]
  },
  {
   "cell_type": "code",
   "execution_count": 15,
   "metadata": {},
   "outputs": [
    {
     "data": {
      "text/plain": [
       "0                                                                                                                                                                                                                                                                                                                                                                                                                                                                                                                                                                                                                                      barça acaezar b arbitro impedir él messi autentico vergüenza\n",
       "1                                                                     real madrid poner punto andadura copa rey escalón zidane caer alcoyano b empezar ganar jugar hombre prórroga técnico francés disponer equipo plagado habitual vinicius mariano ataque lograr crear ocasión militao marcar gol madrid justo descanso intentar cerrar partido colmillo suficiente modesto alcoyano aprovechar córner empatar partido minuto empate sentar jarro agua frío blanco intentar tiempo extra falta minuto casanova conseguir gol importante vida valer clasificación octavo copa madrid zidane quedar apeado torneo francés quedar pelear único título conseguir contar minuto minuto partido directo\n",
       "2                                                                                                                                                                                                                                              cristín cifuent presidenta madrid añorar madrileño vista ayuso llegar presidenta pp madrid nivel estatal malo cabeza hundir futuro político fango imposible regresar necesidad demostrar sacar máster siquiera casado urdir plan amenaza abuso falsificar documento oficial penado cárcel necesitar carrera político rematar desastre pillar hurtar crema facial pagar tranquilamente cleptomanía oculto cámara indiscreto destrozar vergüenza libro\n",
       "3                                                                                                                                                                                                                                                                                                                                                                                                                                                                                                                                                                                                                                              haber reabrir caso supremo dedicar proteger voluntad\n",
       "4                                                                                                                                                                                                   exagerado pedir año prisión cifuent caso haber investigar destapar caso crema seguro fuego amigo alguien interesar destapar caso interno corrupción pepero madrileño amenazar mujer conocer llevar dinero público abastecierir partido estorbar gente amiga   grave título académico   casadete regalado convalidación master harvard aravaca comparado actual caótico punto comparación subir pan costa sandez sandez presidenta título nobiliario llenar partido dinero ilícito campar anchas\n",
       "5                                                                                                                                                                                                                                                                                                                          delincuente negar evidencia prueba momento deberiar sancionar él delincuente prorrogar juicio limit insospechado prueba irrefutable directora rasgo honestidad falsifico orden hagan juego señor deberiar finalizar él cifuent delinquir necesitar cooperador compliz empezar rector asesora etc etc. juan carlos i casualidad dio cria juntar irregularidad sede pp-vox\n",
       "6                                                                                                                                                                                                                                                                                                                                                                                                                                                                                                                                                                                       preguntárselo fracasado medio carrera 6 mes máster aravaca eeuu máster presencial clase nivel corrupción pp\n",
       "7                                                                                                                                                                                                                                                                                                                                                                                                                                                                                                                                           año asociación delictivo banquillo juez agilidad sr juez recibir corresponder corrupción caer llamar llamar devolver 130 mil millón euros robar español\n",
       "8                                                                                                                                                                                                                                                                                                                                                                                                                                                                                                                                                                                                 fardero presidenta comunidad madrid cosa vered molestar compañero filtrar video potito crema tele\n",
       "9                                                                                                                                                                                                                                                                                                                                                                                                                                                                                                                                                                                                                                          caer frente justicia miembro asociación bastar impunidad\n",
       "10                                                                                                                                                                                                                                                                                                                                                                                                                                                                                                                                                                                                                                               viendo él directo acaso cualquiera fiar periodista\n",
       "11                                                                                                                                                                                                                                                                                                                                                                                                                                                                                                     profesora declaración pablo pedro prometer puesto paraíso jesús gente calaña metoo forrar haciend opelicula lego denunciar lance armstrong devolver pasta recibir patrocinador gente cobarde\n",
       "12                                                                                                                                                                                                                                                                                                                                                                                                                                                                                                                                                                                                                                                                                    coacción cifu\n",
       "13                                                                                                                                                                                                                                                                                                                                                                                                                                                                                                                                                                                                                                                                                 falconetti acaso\n",
       "14                                                                                                                                                                                                                                                                                                                                                                                                                                                                                                   entender ud juicio falsificar documento público delito josé manuel franco criticable ud j.m franco callar asumir culpa cristín cifuent tomar imbecil creerer mentira visto andar desencaminado\n",
       "15    ocurrir madrid esperanza aguirre presidenta ca madrid imputado caso corrupción nombrar estanque rana corrupto mano derecho tomador testigo presidencia madrid josé ignacio gonzález cárcel corrupción imputado caso corrupción ático estepona sucesora cristín cifuentes juzgar corrupción falsificación documento oficial penado año cárcel sucesor cifuent marchar aburrido pp afiliar ciudadano partido peligro extinción llegar elección ínclita ayuso perder conseguir puesto trabajo presidenta ca gracias voto negociación partido extremo derecha vox isabel díaz ayuso ida presidenta habler gestión nefasto annus horribilis madrid año 2020 malo 2021 empezar ayuso frente gestión\n",
       "16                                                                                                                                                                                                                                                                                                                                                                                                                                                                                                                                                                                                                                                       salir   ayuso sumario caray ver ayuso sopa\n",
       "17                                                                                                                                         actitud tribunal entidad excusa acúmulo prueba evidencia permitir altanería soberbia impropio alguien comparecer tribunal investigada-acusada múltiple delito ver actitud sr juez causa amedrentar continuamente fiscal representante acusación particular universidad obvio defensa ataque sr.juez fiscal entender enroque pp cgpj importancia designación juez órgano rosario proceso pendiente alto cargo pp fabricante cortina humo ir avivar fuego hablar venezuela sr sánchez coleta hablar corruptela es@ señor@ vd formar partido andalucia oler\n",
       "18                                                                                                                                                                                                                                                                                                                                                                                                                                                                                                                                                                                                                                                                         100% pepera célula sitio\n",
       "19                                                                                                                                                                                                                                                                                                                                                                                                                                                                                                                                                                                                                                                   traer flojo resultado señora dar talla aludido\n",
       "20                                                                                                                                                                                                                                                                                                                                                                                                                                                                                                                        actuar fe simplemente decir alguien fundamento democratico apuntar necesario hacer él pregunta universidad pp madrid capaz masters pùpilos cambio jugoso subvención mafia\n",
       "21                                                                                                                                                                                                                                                                                                                                                                                                                                                                                                                                                                                                                                        actuar actuar presuntamente coaccionar profesora fe traca\n",
       "22                                                                                                                                                                                                                                                                                                                                                                                                                                                                                                                                                                                                                 cela derecha dar vergüenza ajeno decir político actual vergüenza ajeno izquierda\n",
       "23                                                                                                                                                                                                                                                                                                                                                                                                                                                                                                                                                                                                                                                             celar camilo diz dar vergüenza ajeno\n",
       "24                                                                                                                                                                                                                                                                                                                                                                                                                                                                                                                                                                             morro persona universidad español título oficio solicitar él pagar tasa suponer pedir pagar político vergüenza ajeno\n",
       "25                                                                                                                                                                                                                                                                                                                                                                                                                                                                                                                                                                           cualquiera escribir trabajo máster tesis doctoral enorme esfuerzo costar cariño guardar copia miente qur hacer ingenio\n",
       "26                                                                                                                                                                                                                                                                                                                                                                                                                                                                                                                                                               crema quedar título falso tertulián telecinco llegar hora traca mentira culpar acólito buscar vergüenza ajeno salir señora cifuent\n",
       "27                                                                                                                                                                                                                                                                                                                                                                                                                                                                                                                                                                 ex obligación tiempo asistir clase presencial universidad cambiar sitio crema   estantería supermercado bolso   encontrar tiempo\n",
       "28                                                                                                                                                                                                                                                                                                                                                                                                                                                                                                                                                                                                                           efectivamente enrique álvarez conde fallecer 2019 intentar responsable\n",
       "29                                                                                                                                                                                                                                                                                                                                                                                                                                                                                                                                                                                                  cinismo señora límite asegurar poseer título presentar cámara pillado mentira culpa universidad\n",
       "30                                                                                                                                                                                                                                                             difunto e. álvarez conde actuar cátedra derecho constitucional conventículo master bendición académico administrativo rector gonzález-trevijano tc fernando suárez concernido ramo lópez amar   president cam r- gallardón investigada aguirre acusado i. gonzález cifuent corriente ayuso cuarto siglo contemplar gracias mayoría absoluto obtenido   votante pp finalmente condenado sentencia firme nº 20/2018   an confirmado ts\n",
       "31                                                                                  magistrado dirigir juicio oral master público urjc cam   ap madrid sección nº 15 ó 16 continuo duda prensa integrado formar trío dictar sentencia calidad   administrador justicia emanar pueblo exclusivo titular constitucional poder seno desarrollar sesión público   garantía parte esclarecer grave hecho sucedido año expedición título académico favor dirigente pp madrileño práctica evidenciar ausencia riguroso sistema enseñanza eficaz contrastado claustro sucesivo rector    funcionario servicio público ciudadano alcanzar progreso científico   ético igualar yo competencia   resto país ue\n",
       "32                                                                                                                                                                                                                                                                                                                                                                                                                                                                                                                                                                                                                                                                                  muerto culpable\n",
       "33                                                                                                                                                                                                                                                                                                                                                                                                                                                                                                                                     sentido común desmontar alegación tribunal cifuent asesoramiento infantil profesional señora defensa pensar contar cyatro mentira fundamento solucionar caso\n",
       "34                                                                                                                                                                                                                                                                                                                                                                                                                                                                                                                                                                                                                             resto masterizado pepero nerviosos.casado jugar pleno máster carrera\n",
       "35                                                                                                                                                                                                                                                                                                                                                                                                                                                                                                                                                                                                                                     realidad salir derecha español culpar corruptela muerto cosa\n",
       "36                                                                                                                                                                                                                                                                                                                                                                                                                                                                                                                                                                                                                                                suma empezar retomar término causar estupor casta\n",
       "37                                                                                                                                                                                                                                                                                                                                                                                                                                                                                                                                                                                                            entender pedir 3 año 3 mes cárcel largu punto vista espectador ridículamente patético\n",
       "38                                                                                                                                                                                                                                                                                                                                                                                                                                                                                                                                                                                                               negar endogamia terrible imagino independiente deber contrato basura apagar vámono\n",
       "39                                                                                                                                                                                                                                                                                                                                                                                                                                                                                                                                                                                                                 ep periódico permitir parir pp condición comentario mención psoe sanchez zp psoe\n",
       "40                                                                                       cara bonito pp futuro decencia analizar trayectoria profesional politico posiblemente asombrariar sra miembro jet society tenia preocupar titulo posicion social vip trepar subir posicion social precio ser careciar pedigri apuntar master master obtener respaldo intelectual formativo careciar administrativo universidad madrid saco cerrera ganar posición subir nivel cuyo tribunal oposición contar intir amigo siguio escalar universidad rey juan carlos creado controlado comunidad madrid ppero cacha cumulo adscribir universidad parangon rector ver irregular exigir seudo auditoria farsa\n",
       "41                                                                                                                                                                                                                                                                                                                                                                                                                                                                                                                                                                                                                                                                                     biden jauria\n",
       "42                                                                                                                                                                                                                                                                                                                                                                                                                                                                                                                                                                                                                                                                imaginate ue haber bajar pantalón\n",
       "43                                                                                                                                                                                                                                                                                                                                                                                                                                                                                                                                                                                                                                                            menuda mierda igualdad discriminación\n",
       "44                                                                                                                                                                                                                                                                                                                                                                                                                                                                                                                                                                                                                                                                           escoria clase político\n",
       "45                                                                                                                                                                                                                                                                                                                                                                                                                                                                                                                                                                                                                                                            estar forrado hacienda comunista rico\n",
       "46                                                                                                                                                                                                                                                                                                                                                                                                                                                                                                                                                                                                                                                                  credibilidad tener alma cántaro\n",
       "47                                                                                                                                                                                                                                                                                                                                                                                                                                                                                                                                                                                                                                                                  @mosso calma eh @adacolau azote\n",
       "48                                                                                                                                                                                                                                                                                                                                                                                                                                                                                                                                                                                                                                                                              entrar tonto españa\n",
       "49                                                                                                                                                                                                                                                                                                                                                                                                                                                                                                                                                                                                                                                      aprovechar él partido veleta votante veleta\n",
       "Name: clean_text, dtype: object"
      ]
     },
     "execution_count": 15,
     "metadata": {},
     "output_type": "execute_result"
    }
   ],
   "source": [
    "# TOKENIZACIÓN LEMMA STOPWORDS Y PUNTUACIONES\n",
    "\n",
    "def preprocess_text(text):\n",
    "    doc = nlp(text)\n",
    "    # Lemmatización y eliminación de stopwords y signos de puntuación\n",
    "    tokens = [token.lemma_.lower() for token in doc if not token.is_stop and not token.is_punct]\n",
    "    return \" \".join(tokens)\n",
    "\n",
    "data['clean_text'] = data['CONTENIDO A ANALIZAR'].apply(preprocess_text)\n",
    "data['clean_text'].head(50)\n",
    "\n",
    "\n"
   ]
  },
  {
   "cell_type": "code",
   "execution_count": 99,
   "metadata": {},
   "outputs": [
    {
     "name": "stdout",
     "output_type": "stream",
     "text": [
      "Registros borrados: 2\n",
      "Valores únicos restantes:\n",
      "3.0\n",
      "0.0\n",
      "4.0\n",
      "2.0\n",
      "1.0\n",
      "5.0\n",
      "6.0\n",
      "0.0\n",
      "1.0\n",
      "4.0\n",
      "5.0\n",
      "6.0\n",
      "3.0\n",
      "2.0\n",
      "14\n"
     ]
    }
   ],
   "source": [
    "import numpy as np\n",
    "valores_unicos = data['INTENSIDAD'].unique()\n",
    "c = 0\n",
    "registros_borrados = 0\n",
    "for i in valores_unicos:\n",
    "    if i == \" la vila joiosa, 52\" or i == \" tanya kozyreva en ucrania\":\n",
    "        valores_unicos = np.delete(valores_unicos, c)\n",
    "        registros_borrados += 1\n",
    "    else:\n",
    "        c += 1\n",
    "print(\"Registros borrados:\", registros_borrados)\n",
    "print(\"Valores únicos restantes:\")\n",
    "for i in valores_unicos:\n",
    "    print(i)\n",
    "print(len(valores_unicos))"
   ]
  },
  {
   "cell_type": "code",
   "execution_count": 13,
   "metadata": {},
   "outputs": [
    {
     "data": {
      "text/plain": [
       "0     True\n",
       "1    False\n",
       "2     True\n",
       "3     True\n",
       "4     True\n",
       "5     True\n",
       "6     True\n",
       "7     True\n",
       "8     True\n",
       "9     True\n",
       "Name: ODIO, dtype: bool"
      ]
     },
     "execution_count": 13,
     "metadata": {},
     "output_type": "execute_result"
    }
   ],
   "source": [
    "import pandas as pd\n",
    "\n",
    "# Suponiendo que 'data' es tu DataFrame\n",
    "data['INTENSIDAD'] = pd.to_numeric(data['INTENSIDAD'], errors='coerce')\n",
    "# Función para calcular el valor de la columna 'ODIO'\n",
    "def calcular_odio(valor):\n",
    "    if pd.isnull(valor):\n",
    "        return False  # Manejar valores nulos\n",
    "    return valor > 0\n",
    "\n",
    "# Aplicar la función a la columna 'INTENSIDAD' y crear la nueva columna 'ODIO'\n",
    "data['ODIO'] = data['INTENSIDAD'].apply(calcular_odio)\n",
    "\n",
    "# Verificar el resultado\n",
    "data['ODIO'].head(10)"
   ]
  },
  {
   "cell_type": "code",
   "execution_count": 20,
   "metadata": {},
   "outputs": [
    {
     "name": "stdout",
     "output_type": "stream",
     "text": [
      "el DET\n",
      "real PROPN\n",
      "madrid PROPN\n",
      "ha AUX\n",
      "puesto VERB\n",
      "punto NOUN\n",
      "y CCONJ\n",
      "final NOUN\n",
      "a ADP\n",
      "su DET\n",
      "andadura NOUN\n",
      "en ADP\n",
      "la DET\n",
      "copa PROPN\n",
      "del ADP\n",
      "rey PROPN\n",
      "en ADP\n",
      "el DET\n",
      "primer ADJ\n",
      "escalón NOUN\n",
      ". PUNCT\n",
      "los DET\n",
      "de ADP\n",
      "zidane PROPN\n",
      "han AUX\n",
      "caído VERB\n",
      "ante ADP\n",
      "el DET\n",
      "alcoyano NOUN\n",
      ", PUNCT\n",
      "de ADP\n",
      "segunda ADJ\n",
      "b NOUN\n",
      ", PUNCT\n",
      "a ADP\n",
      "pesar NOUN\n",
      "de ADP\n",
      "empezar VERB\n",
      "ganando VERB\n",
      "y CCONJ\n",
      "jugar VERB\n",
      "con ADP\n",
      "un DET\n",
      "hombre NOUN\n",
      "menos ADV\n",
      "en ADP\n",
      "la DET\n",
      "prórroga NOUN\n",
      ". PUNCT\n",
      "el DET\n",
      "técnico NOUN\n",
      "francés ADJ\n",
      "dispuso VERB\n",
      "un DET\n",
      "equipo NOUN\n",
      "plagado ADJ\n",
      "de ADP\n",
      "los DET\n",
      "menos ADV\n",
      "habituales ADJ\n",
      ", PUNCT\n",
      "con ADP\n",
      "vinicius NOUN\n",
      "y CCONJ\n",
      "mariano NOUN\n",
      "en ADP\n",
      "ataque NOUN\n",
      ". PUNCT\n",
      "ninguno PRON\n",
      "de ADP\n",
      "los DET\n",
      "dos NUM\n",
      "logró VERB\n",
      "crear VERB\n",
      "ocasiones NOUN\n",
      ". PUNCT\n",
      "fue AUX\n",
      "militao NOUN\n",
      "el DET\n",
      "que PRON\n",
      "marcó VERB\n",
      "el DET\n",
      "gol NOUN\n",
      "del ADP\n",
      "madrid PROPN\n",
      ", PUNCT\n",
      "justo ADV\n",
      "antes ADV\n",
      "del ADP\n",
      "descanso NOUN\n",
      ". PUNCT\n",
      "en ADP\n",
      "la DET\n",
      "segunda ADJ\n",
      "parte NOUN\n",
      "intentaron VERB\n",
      "cerrar VERB\n",
      "el DET\n",
      "partido NOUN\n",
      ", PUNCT\n",
      "pero CCONJ\n",
      "sin ADP\n",
      "el DET\n",
      "colmillo NOUN\n",
      "suficiente ADJ\n",
      "y CCONJ\n",
      "el DET\n",
      "modesto ADJ\n",
      "alcoyano NOUN\n",
      "aprovechó VERB\n",
      "un DET\n",
      "córner NOUN\n",
      "para ADP\n",
      "empatar VERB\n",
      "el DET\n",
      "partido NOUN\n",
      "a ADP\n",
      "cinco NUM\n",
      "minutos NOUN\n",
      "para ADP\n",
      "el DET\n",
      "final NOUN\n",
      ". PUNCT\n",
      "el DET\n",
      "empate NOUN\n",
      "sentó VERB\n",
      "como SCONJ\n",
      "un DET\n",
      "jarro NOUN\n",
      "de ADP\n",
      "agua NOUN\n",
      "fría ADJ\n",
      "a ADP\n",
      "los DET\n",
      "blancos NOUN\n",
      ", PUNCT\n",
      "que PRON\n",
      "lo PRON\n",
      "intentaron VERB\n",
      "en ADP\n",
      "el DET\n",
      "tiempo NOUN\n",
      "extra ADJ\n",
      "a ADP\n",
      "falta NOUN\n",
      "de ADP\n",
      "cinco NUM\n",
      "minutos NOUN\n",
      ", PUNCT\n",
      "el DET\n",
      "casanova PROPN\n",
      "consiguió VERB\n",
      "el DET\n",
      "gol NOUN\n",
      "más ADV\n",
      "importante ADJ\n",
      "de ADP\n",
      "su DET\n",
      "vida NOUN\n",
      ", PUNCT\n",
      "que PRON\n",
      "vale VERB\n",
      "la DET\n",
      "clasificación NOUN\n",
      "para ADP\n",
      "octavos NOUN\n",
      "de ADP\n",
      "la DET\n",
      "copa PROPN\n",
      ". PUNCT\n",
      "el DET\n",
      "madrid PROPN\n",
      "de ADP\n",
      "zidane PROPN\n",
      "queda VERB\n",
      "apeado ADJ\n",
      "del ADP\n",
      "torneo NOUN\n",
      "una DET\n",
      "vez NOUN\n",
      "más ADV\n",
      ", PUNCT\n",
      "por ADP\n",
      "lo PRON\n",
      "que PRON\n",
      "el DET\n",
      "francés NOUN\n",
      "se PRON\n",
      "quedará VERB\n",
      "sin ADP\n",
      "pelear VERB\n",
      "por ADP\n",
      "el DET\n",
      "único ADJ\n",
      "título NOUN\n",
      "que PRON\n",
      "no ADV\n",
      "ha AUX\n",
      "conseguido VERB\n",
      "nunca ADV\n",
      ". PUNCT\n",
      "así ADV\n",
      "hemos AUX\n",
      "contado VERB\n",
      "el DET\n",
      "minuto NOUN\n",
      "a ADP\n",
      "minuto NOUN\n",
      "del ADP\n",
      "partido NOUN\n",
      "en ADP\n",
      "directo NOUN\n",
      ": PUNCT\n"
     ]
    }
   ],
   "source": [
    "# Puedes insertar aquí código de pruebas para experimentar con las diferentes funciones y atributos de 'doc'.\n",
    "lines_number = 20\n",
    "#print(data[\"CONTENIDO A ANALIZAR\"][1])\n",
    "#print(data[\"INTENSIDAD\"][1])\n",
    "doc = []\n",
    "value = []\n",
    "\n",
    "#con el bucle, generamos sendas listas con los comentarios ya parseados y con el valor de intensidad\n",
    "for i in range(0, lines_number):\n",
    "    \n",
    "    #en un primer paso se parsea el comentario. En el segundo paso se añade el objeto a la lista\n",
    "    tmp_doc = nlp(data[\"CONTENIDO A ANALIZAR\"][i])\n",
    "    doc.append(tmp_doc)\n",
    "    \n",
    "    #en un primer paso extrae el valor. En el segundo paso se añade el valor a la lista\n",
    "    tmp_value = data[\"INTENSIDAD\"][i]\n",
    "    value.append(tmp_value)\n",
    "\n",
    "\n",
    "#ejemplo de cómo recorrer un comentario palabra por palabra    \n",
    "for token in doc[1]:\n",
    "    print(token, token.pos_)"
   ]
  },
  {
   "cell_type": "code",
   "execution_count": 27,
   "metadata": {},
   "outputs": [],
   "source": [
    "nlp = spacy.load(\"es_core_news_md\")"
   ]
  },
  {
   "cell_type": "markdown",
   "metadata": {},
   "source": [
    "<span style=\"font-size: 14pt; font-weight: bold; color: #0098cd;\">Pregunta 1.</span>\n",
    "<span style=\"font-size: 14pt; font-weight: bold; color: #0098cd;\">¿Cuántos registros contiene el corpus?</span>"
   ]
  },
  {
   "cell_type": "code",
   "execution_count": 16,
   "metadata": {},
   "outputs": [
    {
     "name": "stdout",
     "output_type": "stream",
     "text": [
      "Número de registros en el corpus: 574639\n",
      "Número de registros en el corpus: 574639\n"
     ]
    }
   ],
   "source": [
    "# Incluye aquí el código generado para poder responder a tu pregunta\n",
    "#Forma 1:\n",
    "totalRows = len(data)\n",
    "print(\"Número de registros en el corpus:\", totalRows)\n",
    "#Forma 2:\n",
    "totalRows2 = data.shape[0]\n",
    "print(\"Número de registros en el corpus:\", totalRows2)"
   ]
  },
  {
   "cell_type": "markdown",
   "metadata": {},
   "source": [
    "<b>Incluye aquí, debajo de la línea, la explicación de tu respuesta</b>\n",
    "<hr>\n",
    "<h3>Respuesta:</h3>\n",
    "<p>Existen muchas formas para obtener todos los registros del corpus, yo he utilizado dos diferentes.</p>\n",
    "<p>Forma 1: La función len() cuenta la longitud del dataframe.</p>\n",
    "<p>Forma 2: Con shape, obtengo una tupla, donde la primera posición indica las filas del dataframe</p>\n",
    " "
   ]
  },
  {
   "cell_type": "markdown",
   "metadata": {},
   "source": [
    "<span style=\"font-size: 14pt; font-weight: bold; color: #0098cd;\">Pregunta 2.</span>\n",
    "<span style=\"font-size: 14pt; font-weight: bold; color: #0098cd;\">¿Cuántas palabras totales hay en los comentarios del corpus?</span>"
   ]
  },
  {
   "cell_type": "code",
   "execution_count": 17,
   "metadata": {},
   "outputs": [
    {
     "name": "stdout",
     "output_type": "stream",
     "text": [
      "El número total de palabras es: 62405613\n"
     ]
    }
   ],
   "source": [
    "# Incluye aquí el código generado para poder responder a tu pregunta\n",
    "#Poner la opción de numero total de palabras quitando stopwords, o sea en data['clean_text']\n",
    "\n",
    "textComments = data['CONTENIDO A ANALIZAR'].apply(lambda x: str(x))#APLICAR A data['clean_text']\n",
    "\n",
    "totalWords = textComments.apply(lambda x: len(x.split())).sum()\n",
    "\n",
    "print(f\"El número total de palabras es: {totalWords}\")\n"
   ]
  },
  {
   "cell_type": "markdown",
   "metadata": {},
   "source": [
    "<b>Incluye aquí, debajo de la línea, la explicación de tu respuesta</b>\n",
    "<hr>\n",
    "<h3>Respuesta:</h3>\n",
    "<p>Me aseguro de tratar todos los registros de la columna \"CONTENIDO A ANALIZAR\" como si fueran texto, son recorridos con lambda y la función apply() convierte cada comentario a cadena str. Se guarda en textComments</p>\n",
    "<p>Después uso la función split() para separar palabra a palabra de cada comentario y contarlas con len(), después sumo todas las contabilizaciones con la función sum() para obtener el total de palabras en todos los comentarios. El resultado se guarda en totalWords</p>\n",
    " "
   ]
  },
  {
   "cell_type": "markdown",
   "metadata": {},
   "source": [
    "<span style=\"font-size: 14pt; font-weight: bold; color: #0098cd;\">Pregunta 3.</span>\n",
    "<span style=\"font-size: 14pt; font-weight: bold; color: #0098cd;\">¿Cuál el número promedio de palabras en cada comentario?</span>"
   ]
  },
  {
   "cell_type": "code",
   "execution_count": 18,
   "metadata": {},
   "outputs": [
    {
     "name": "stdout",
     "output_type": "stream",
     "text": [
      "Hay 108.6 palabras de media en cada comentario\n"
     ]
    }
   ],
   "source": [
    "# Incluye aquí el código generado para poder responder a tu pregunta\n",
    "commentsAVG = round(totalWords / totalRows,3)\n",
    "print(f\"Hay {commentsAVG} palabras de media en cada comentario\" )"
   ]
  },
  {
   "cell_type": "markdown",
   "metadata": {},
   "source": [
    "<b>Incluye aquí, debajo de la línea, la explicación de tu respuesta</b>\n",
    "<hr>\n",
    "<h3>Respuesta:</h3>\n",
    "<p>Se calcula el número promedio de palabras por cada comentario, dividiendo el total de palabras (totalWords) entre el número de registros del corpus(totalRows)</p> \n",
    "<p>Se aplica la función round para redondear en 3 decimales el contenido de commentsAVG</p>"
   ]
  },
  {
   "cell_type": "markdown",
   "metadata": {},
   "source": [
    "<span style=\"font-size: 14pt; font-weight: bold; color: #0098cd;\">Pregunta 4.</span>\n",
    "<span style=\"font-size: 14pt; font-weight: bold; color: #0098cd;\">Considerando dos grupos de comentarios (odio y no odio) ¿Cuál el número promedio de palabras en los comentarios de cada grupo?</span>"
   ]
  },
  {
   "cell_type": "code",
   "execution_count": 19,
   "metadata": {},
   "outputs": [
    {
     "name": "stdout",
     "output_type": "stream",
     "text": [
      "Promedio de palabras en comentarios de odio: 15.958604424202992\n",
      "Promedio de palabras en comentarios de no odio: 110.62534076177707\n"
     ]
    }
   ],
   "source": [
    "#EXPLICAR LA COLUMNA ODIO Y LA LIMPIEZA QUE SE HA HECHO\n",
    "comentarios_odio = data[data['ODIO'] == True]\n",
    "comentarios_no_odio = data[data['ODIO'] == False]\n",
    "\n",
    "def num_palabras(comentario):\n",
    "    palabras = comentario.split()\n",
    "    return len(palabras)\n",
    "\n",
    "promedio_palabras_odio = comentarios_odio['CONTENIDO A ANALIZAR'].apply(num_palabras).mean()\n",
    "promedio_palabras_no_odio = comentarios_no_odio['CONTENIDO A ANALIZAR'].apply(num_palabras).mean()\n",
    "\n",
    "print(\"Promedio de palabras en comentarios de odio:\", promedio_palabras_odio)\n",
    "print(\"Promedio de palabras en comentarios de no odio:\", promedio_palabras_no_odio)\n"
   ]
  },
  {
   "cell_type": "markdown",
   "metadata": {},
   "source": [
    "<b>Incluye aquí, debajo de la línea, la explicación de tu respuesta</b>\n",
    "<hr>\n",
    " "
   ]
  },
  {
   "cell_type": "markdown",
   "metadata": {},
   "source": [
    "<span style=\"font-size: 14pt; font-weight: bold; color: #0098cd;\">Pregunta 5.</span>\n",
    "<span style=\"font-size: 14pt; font-weight: bold; color: #0098cd;\">Considerando dos grupos de comentarios (odio y no odio) ¿Cuál es el número promedio de oraciones en los comentarios de cada grupo?</span>"
   ]
  },
  {
   "cell_type": "code",
   "execution_count": 21,
   "metadata": {},
   "outputs": [
    {
     "name": "stdout",
     "output_type": "stream",
     "text": [
      "Promedio de oraciones en comentarios de odio: 1.5632726089785296\n",
      "Promedio de oraciones en comentarios de no odio: 3.9325447280396486\n"
     ]
    }
   ],
   "source": [
    "import spacy\n",
    "\n",
    "nlp = spacy.load(\"es_core_news_md\")\n",
    "\n",
    "# Suponiendo que 'data' es tu DataFrame con la columna 'CONTENIDO A ANALIZAR' y la columna 'ODIO'\n",
    "\n",
    "# Crear un DataFrame separado para comentarios de odio y no odio\n",
    "comentarios_odio = data[data['ODIO'] == True]\n",
    "comentarios_no_odio = data[data['ODIO'] == False]\n",
    "\n",
    "# Función para contar el número de oraciones en un comentario\n",
    "def num_oraciones(comentario):\n",
    "    doc = nlp(comentario)\n",
    "    return len(list(doc.sents))\n",
    "\n",
    "# Calcular el número de oraciones promedio en comentarios de odio\n",
    "promedio_oraciones_odio = comentarios_odio['CONTENIDO A ANALIZAR'].apply(num_oraciones).mean()\n",
    "\n",
    "# Calcular el número de oraciones promedio en comentarios de no odio\n",
    "promedio_oraciones_no_odio = comentarios_no_odio['CONTENIDO A ANALIZAR'].apply(num_oraciones).mean()\n",
    "\n",
    "print(\"Promedio de oraciones en comentarios de odio:\", promedio_oraciones_odio)\n",
    "print(\"Promedio de oraciones en comentarios de no odio:\", promedio_oraciones_no_odio)"
   ]
  },
  {
   "cell_type": "markdown",
   "metadata": {},
   "source": [
    "<b>Incluye aquí, debajo de la línea, la explicación de tu respuesta</b>\n",
    "<hr>\n",
    " "
   ]
  },
  {
   "cell_type": "markdown",
   "metadata": {},
   "source": [
    "<span style=\"font-size: 14pt; font-weight: bold; color: #0098cd;\">Pregunta 6.</span>\n",
    "<span style=\"font-size: 14pt; font-weight: bold; color: #0098cd;\">Considerando dos grupos de comentarios (odio y no odio) ¿Cuál es el porcentaje de comentarios que contienen entidades NER en cada grupo?</span>"
   ]
  },
  {
   "cell_type": "code",
   "execution_count": 22,
   "metadata": {},
   "outputs": [
    {
     "name": "stdout",
     "output_type": "stream",
     "text": [
      "Porcentaje de comentarios con entidades NER en comentarios de odio: 34.29570592062459\n",
      "Porcentaje de comentarios con entidades NER en comentarios de no odio: 58.08856872051399\n"
     ]
    }
   ],
   "source": [
    "# Incluye aquí el código generado para poder responder a tu pregunta\n",
    "import spacy\n",
    "\n",
    "# Cargar el modelo de lenguaje en español de spaCy\n",
    "nlp = spacy.load(\"es_core_news_md\")\n",
    "\n",
    "# Suponiendo que 'data' es tu DataFrame con la columna 'CONTENIDO A ANALIZAR' y la columna 'ODIO'\n",
    "\n",
    "# Crear un DataFrame separado para comentarios de odio y no odio\n",
    "comentarios_odio = data[data['ODIO'] == True]\n",
    "comentarios_no_odio = data[data['ODIO'] == False]\n",
    "\n",
    "# Función para verificar si un comentario contiene entidades NER\n",
    "def contiene_ner(comentario):\n",
    "    doc = nlp(comentario)\n",
    "    return any(ent.label_ for ent in doc.ents)\n",
    "\n",
    "# Calcular el porcentaje de comentarios que contienen entidades NER en comentarios de odio\n",
    "porcentaje_ner_odio = (comentarios_odio['CONTENIDO A ANALIZAR'].apply(contiene_ner).sum() / len(comentarios_odio)) * 100\n",
    "\n",
    "# Calcular el porcentaje de comentarios que contienen entidades NER en comentarios de no odio\n",
    "porcentaje_ner_no_odio = (comentarios_no_odio['CONTENIDO A ANALIZAR'].apply(contiene_ner).sum() / len(comentarios_no_odio)) * 100\n",
    "\n",
    "print(\"Porcentaje de comentarios con entidades NER en comentarios de odio:\", porcentaje_ner_odio)\n",
    "print(\"Porcentaje de comentarios con entidades NER en comentarios de no odio:\", porcentaje_ner_no_odio)"
   ]
  },
  {
   "cell_type": "markdown",
   "metadata": {},
   "source": [
    "<b>Incluye aquí, debajo de la línea, la explicación de tu respuesta</b>\n",
    "<hr>\n",
    " "
   ]
  },
  {
   "cell_type": "markdown",
   "metadata": {},
   "source": [
    "<span style=\"font-size: 14pt; font-weight: bold; color: #0098cd;\">Pregunta 7.</span>\n",
    "<span style=\"font-size: 14pt; font-weight: bold; color: #0098cd;\">Considerando dos grupos de comentarios (odio y no odio) ¿Cuál es el porcentaje de comentarios que contienen entidades NER de tipo PERSON en cada grupo?</span>"
   ]
  },
  {
   "cell_type": "code",
   "execution_count": 24,
   "metadata": {},
   "outputs": [
    {
     "name": "stdout",
     "output_type": "stream",
     "text": [
      "Porcentaje de comentarios con entidades NER de tipo PERSON en comentarios de odio: 18.87605725439167\n",
      "Porcentaje de comentarios con entidades NER de tipo PERSON en comentarios de no odio: 28.846451365092125\n"
     ]
    }
   ],
   "source": [
    "import spacy\n",
    "\n",
    "\n",
    "# Suponiendo que 'data' es tu DataFrame con la columna 'CONTENIDO A ANALIZAR' y la columna 'ODIO'\n",
    "\n",
    "# Crear un DataFrame separado para comentarios de odio y no odio\n",
    "comentarios_odio = data[data['ODIO'] == True]\n",
    "comentarios_no_odio = data[data['ODIO'] == False]\n",
    "\n",
    "# Función para verificar si un comentario contiene entidades NER de tipo PERSON\n",
    "def contiene_person(comentario):\n",
    "    doc = nlp(comentario)\n",
    "    return any(ent.label_ == \"PER\" for ent in doc.ents)\n",
    "\n",
    "# Calcular el porcentaje de comentarios que contienen entidades NER de tipo PERSON en comentarios de odio\n",
    "porcentaje_person_odio = (comentarios_odio['CONTENIDO A ANALIZAR'].apply(contiene_person).sum() / len(comentarios_odio)) * 100\n",
    "\n",
    "# Calcular el porcentaje de comentarios que contienen entidades NER de tipo PERSON en comentarios de no odio\n",
    "porcentaje_person_no_odio = (comentarios_no_odio['CONTENIDO A ANALIZAR'].apply(contiene_person).sum() / len(comentarios_no_odio)) * 100\n",
    "\n",
    "print(\"Porcentaje de comentarios con entidades NER de tipo PERSON en comentarios de odio:\", porcentaje_person_odio)\n",
    "print(\"Porcentaje de comentarios con entidades NER de tipo PERSON en comentarios de no odio:\", porcentaje_person_no_odio)"
   ]
  },
  {
   "cell_type": "markdown",
   "metadata": {},
   "source": [
    "<b>Incluye aquí, debajo de la línea, la explicación de tu respuesta</b>\n",
    "<hr>\n",
    " "
   ]
  },
  {
   "cell_type": "markdown",
   "metadata": {},
   "source": [
    "<span style=\"font-size: 14pt; font-weight: bold; color: #0098cd;\">Pregunta 8.</span>\n",
    "<span style=\"font-size: 14pt; font-weight: bold; color: #0098cd;\">Considerando dos grupos de comentarios (odio y no odio) ¿Cuál es el porcentaje de palabras en cada combinación posible de género y número (p.ej. masculino singular) en cada grupo?</span>"
   ]
  },
  {
   "cell_type": "code",
   "execution_count": 30,
   "metadata": {},
   "outputs": [
    {
     "name": "stdout",
     "output_type": "stream",
     "text": [
      "Porcentaje de palabras en cada combinación posible en comentarios de odio:\n",
      "{('Masc', 'Sing'): 29.616946911014548, ('Masc', 'Plur'): 15.232382391838279, ('Fem', 'Sing'): 34.14887587379558, ('N', 'S'): 6.371622898167391, ('Fem', 'Plur'): 8.551388626487814, ('N', 'Plur'): 3.6770262610995657, ('N', 'Sing'): 1.8373323257132061, ('Masc', 'S'): 0.3566030606461364, ('Fem', 'S'): 0.20782165123748347}\n",
      "\n",
      "Porcentaje de palabras en cada combinación posible en comentarios de no odio:\n",
      "{('Masc', 'Sing'): 29.94717992318111, ('Fem', 'Sing'): 31.75051528323846, ('N', 'S'): 8.82639492305633, ('Fem', 'Plur'): 10.902253293615592, ('Masc', 'Plur'): 14.243781435964218, ('N', 'Sing'): 1.8967144950848163, ('Fem', 'S'): 0.37133998597930473, ('N', 'Plur'): 1.6707640711743126, ('Masc', 'S'): 0.3910565887058536}\n"
     ]
    }
   ],
   "source": [
    "# Incluye aquí el código generado para poder responder a tu pregunta\n",
    "'''\n",
    "def gender_number_distribution(text):\n",
    "    doc = nlp(text)\n",
    "    gender_number_counts = {'MascSing': 0, 'FemSing': 0, 'MascPlur': 0, 'FemPlur': 0}\n",
    "    for token in doc:\n",
    "        if token.pos_ == 'NOUN':\n",
    "            if token.morph.get('Gender') == 'Masc' and token.morph.get('Number') == 'Sing':\n",
    "                gender_number_counts['MascSing'] += 1\n",
    "            elif token.morph.get('Gender') == 'Fem' and token.morph.get('Number') == 'Sing':\n",
    "                gender_number_counts['FemSing'] += 1\n",
    "            elif token.morph.get('Gender') == 'Masc' and token.morph.get('Number') == 'Plur':\n",
    "                gender_number_counts['MascPlur'] += 1\n",
    "            elif token.morph.get('Gender') == 'Fem' and token.morph.get('Number') == 'Plur':\n",
    "                gender_number_counts['FemPlur'] += 1\n",
    "    total_words = sum(gender_number_counts.values())\n",
    "    percentage_distribution = {key: (value / total_words) * 100 for key, value in gender_number_counts.items()}\n",
    "    return percentage_distribution\n",
    "\n",
    "group_gender_number_distribution = data.groupby('TIPO DE ODIO')['CONTENIDO A ANALIZAR'].apply(lambda x: gender_number_distribution(x))\n",
    "print(\"Porcentaje de palabras en cada combinación de género y número en cada grupo:\\n\", group_gender_number_distribution)\n",
    "'''\n",
    "\n",
    "from collections import Counter\n",
    "\n",
    "\n",
    "\n",
    "# Suponiendo que 'data' es tu DataFrame con la columna 'CONTENIDO A ANALIZAR' y la columna 'ODIO'\n",
    "\n",
    "# Crear un DataFrame separado para comentarios de odio y no odio\n",
    "comentarios_odio = data[data['ODIO'] == True]\n",
    "comentarios_no_odio = data[data['ODIO'] == False]\n",
    "\n",
    "# Función para contar el número de palabras en cada combinación posible de género y número\n",
    "def contar_combinaciones_genero_numero(comentarios):\n",
    "    contador_combinaciones = Counter()\n",
    "    for comentario in comentarios:\n",
    "        doc = nlp(comentario)\n",
    "        for token in doc:\n",
    "            if token.pos_ == \"NOUN\":\n",
    "                combinacion = (token.morph.get(\"Gender\", \"N\")[0], token.morph.get(\"Number\", \"S\")[0])\n",
    "                contador_combinaciones[tuple(combinacion)] += 1\n",
    "    total_palabras = sum(contador_combinaciones.values())\n",
    "    porcentajes = {combinacion: (contador / total_palabras) * 100 for combinacion, contador in contador_combinaciones.items()}\n",
    "    return porcentajes\n",
    "\n",
    "# Calcular el porcentaje de palabras en cada combinación posible en comentarios de odio\n",
    "porcentajes_combinaciones_odio = contar_combinaciones_genero_numero(comentarios_odio['CONTENIDO A ANALIZAR'])\n",
    "\n",
    "# Calcular el porcentaje de palabras en cada combinación posible en comentarios de no odio\n",
    "porcentajes_combinaciones_no_odio = contar_combinaciones_genero_numero(comentarios_no_odio['CONTENIDO A ANALIZAR'])\n",
    "\n",
    "print(\"Porcentaje de palabras en cada combinación posible en comentarios de odio:\")\n",
    "print(porcentajes_combinaciones_odio)\n",
    "print(\"\\nPorcentaje de palabras en cada combinación posible en comentarios de no odio:\")\n",
    "print(porcentajes_combinaciones_no_odio)"
   ]
  },
  {
   "cell_type": "markdown",
   "metadata": {},
   "source": [
    "<b>Incluye aquí, debajo de la línea, la explicación de tu respuesta</b>\n",
    "<hr>\n",
    " "
   ]
  },
  {
   "cell_type": "markdown",
   "metadata": {},
   "source": [
    "<span style=\"font-size: 14pt; font-weight: bold; color: #0098cd;\">Pregunta 9.</span>\n",
    "<span style=\"font-size: 14pt; font-weight: bold; color: #0098cd;\">Considerando dos grupos de comentarios (odio y no odio), indica cuántas entidades de cada tipo posible se reconocen en cada uno de los grupos</span>"
   ]
  },
  {
   "cell_type": "code",
   "execution_count": 31,
   "metadata": {},
   "outputs": [
    {
     "name": "stdout",
     "output_type": "stream",
     "text": [
      "Entidades por tipo en comentarios de odio:\n",
      "Counter({'PER': 2798, 'LOC': 1399, 'MISC': 1047, 'ORG': 624})\n",
      "\n",
      "Entidades por tipo en comentarios de no odio:\n",
      "Counter({'LOC': 730972, 'PER': 690686, 'ORG': 212861, 'MISC': 208855})\n"
     ]
    }
   ],
   "source": [
    "\n",
    "\n",
    "# Suponiendo que 'data' es tu DataFrame con la columna 'CONTENIDO A ANALIZAR' y la columna 'ODIO'\n",
    "\n",
    "# Crear un DataFrame separado para comentarios de odio y no odio\n",
    "comentarios_odio = data[data['ODIO'] == True]\n",
    "comentarios_no_odio = data[data['ODIO'] == False]\n",
    "\n",
    "# Función para contar el número de entidades de cada tipo posible en un grupo de comentarios\n",
    "def contar_entidades_por_tipo(comentarios):\n",
    "    contador_entidades = Counter()\n",
    "    for comentario in comentarios:\n",
    "        doc = nlp(comentario)\n",
    "        for ent in doc.ents:\n",
    "            contador_entidades[ent.label_] += 1\n",
    "    return contador_entidades\n",
    "\n",
    "# Contar el número de entidades de cada tipo posible en comentarios de odio\n",
    "entidades_odio = contar_entidades_por_tipo(comentarios_odio['CONTENIDO A ANALIZAR'])\n",
    "\n",
    "# Contar el número de entidades de cada tipo posible en comentarios de no odio\n",
    "entidades_no_odio = contar_entidades_por_tipo(comentarios_no_odio['CONTENIDO A ANALIZAR'])\n",
    "\n",
    "print(\"Entidades por tipo en comentarios de odio:\")\n",
    "print(entidades_odio)\n",
    "print(\"\\nEntidades por tipo en comentarios de no odio:\")\n",
    "print(entidades_no_odio)"
   ]
  },
  {
   "cell_type": "markdown",
   "metadata": {},
   "source": [
    "<b>Incluye aquí, debajo de la línea, la explicación de tu respuesta</b>\n",
    "<hr>\n",
    " "
   ]
  },
  {
   "cell_type": "markdown",
   "metadata": {},
   "source": [
    "<span style=\"font-size: 14pt; font-weight: bold; color: #0098cd;\">Pregunta 10.</span>\n",
    "<span style=\"font-size: 14pt; font-weight: bold; color: #0098cd;\">Considerando dos grupos de comentarios (odio y no odio), extrae y muestra los 100 lemas más repetidos en los comentarios de cada grupo</span>"
   ]
  },
  {
   "cell_type": "code",
   "execution_count": 32,
   "metadata": {},
   "outputs": [
    {
     "name": "stdout",
     "output_type": "stream",
     "text": [
      "100 lemas más comunes en comentarios de odio:\n",
      "mierda - 866\n",
      "puta - 782\n",
      "asco - 575\n",
      "gobierno - 542\n",
      "panfleto - 487\n",
      "q - 460\n",
      "país - 459\n",
      "hijo - 446\n",
      "españa - 432\n",
      "mentiroso - 427\n",
      "gente - 394\n",
      "vergüenza - 379\n",
      "basura - 348\n",
      "gentuza - 320\n",
      "español - 314\n",
      "tonto - 292\n",
      "político - 271\n",
      "miserable - 266\n",
      "dejar - 262\n",
      "gilipol él - 253\n",
      "puto - 251\n",
      "pasar - 248\n",
      "ver - 241\n",
      "pagar - 227\n",
      "culo - 226\n",
      "idiota - 220\n",
      "año - 218\n",
      "mundo - 218\n",
      "tener - 212\n",
      "salir - 211\n",
      "dinero - 209\n",
      "inútil - 209\n",
      "madre - 201\n",
      "dar - 200\n",
      "decir - 199\n",
      "vida - 198\n",
      "facha - 196\n",
      "terrorista - 195\n",
      "haber - 194\n",
      "seguir - 193\n",
      "fascista - 188\n",
      "querer - 187\n",
      "sinvergüenza - 184\n",
      "informativo - 181\n",
      "poner - 180\n",
      "noticia - 179\n",
      "madrid - 175\n",
      "ir - 174\n",
      "mujer - 173\n",
      "tomar - 172\n",
      "menudo - 168\n",
      "cárcel - 165\n",
      "comunista - 162\n",
      "creer - 161\n",
      "persona - 160\n",
      "hdp - 160\n",
      "cara - 159\n",
      "vivir - 157\n",
      "hdlgp - 157\n",
      "payaso - 154\n",
      "esperar - 153\n",
      "quedar - 152\n",
      "izquierda - 149\n",
      "asesino - 149\n",
      "importar - 148\n",
      "cosa - 145\n",
      "sánchez - 144\n",
      "deber - 143\n",
      "panda - 143\n",
      "asqueroso - 143\n",
      "sinvergüenzas - 142\n",
      "mentira - 139\n",
      "jeta - 139\n",
      "venir - 138\n",
      "trump - 136\n",
      "vacuna - 136\n",
      "pensar - 135\n",
      "partido - 134\n",
      "acabar - 133\n",
      "votar - 132\n",
      "terrorismo - 132\n",
      "vox - 129\n",
      "maldito - 129\n",
      "hablar - 127\n",
      "llamar - 125\n",
      "hacer - 124\n",
      "llegar - 121\n",
      "corrupto - 121\n",
      "dais - 121\n",
      "muerto - 120\n",
      "calle - 119\n",
      "catalán - 118\n",
      "periodismo - 118\n",
      "imbécil - 118\n",
      "estupidez - 118\n",
      "estar - 117\n",
      "chino - 117\n",
      "culpa - 116\n",
      "poder - 115\n",
      "tipo - 114\n",
      "\n",
      "100 lemas más comunes en comentarios de no odio:\n",
      "año - 171496\n",
      "gobierno - 87342\n",
      "persona - 83658\n",
      "país - 77163\n",
      "caso - 72298\n",
      "españa - 70449\n",
      "millón - 56728\n",
      "madrid - 56701\n",
      "ver - 54110\n",
      "seguir - 51585\n",
      "público - 50618\n",
      "llegar - 50582\n",
      "tiempo - 47168\n",
      "mes - 46848\n",
      "poder - 46841\n",
      "momento - 46432\n",
      "pasar - 46146\n",
      "hora - 46093\n",
      "semana - 45649\n",
      "español - 44869\n",
      "vida - 44164\n",
      "euros - 43849\n",
      "partido - 43697\n",
      "comunidad - 41920\n",
      "pandemia - 41308\n",
      "querer - 40869\n",
      "dejar - 40861\n",
      "tener - 40225\n",
      "mundo - 39410\n",
      "social - 39094\n",
      "poner - 39085\n",
      "centro - 39082\n",
      "forma - 38847\n",
      "haber - 38572\n",
      "medida - 38484\n",
      "recibir - 38464\n",
      "presidente - 38017\n",
      "grupo - 36844\n",
      "vacuna - 36287\n",
      "mujer - 35410\n",
      "quedar - 35176\n",
      "trabajo - 34829\n",
      "salir - 34791\n",
      "volver - 34356\n",
      "político - 34065\n",
      "explicar - 34044\n",
      "rt - 33166\n",
      "portada - 33040\n",
      "casa - 32815\n",
      "empresa - 32694\n",
      "pedir - 32571\n",
      "situación - 32393\n",
      "gente - 32158\n",
      "deber - 31690\n",
      "llevar - 31520\n",
      "ciudad - 31273\n",
      "mantener - 31016\n",
      "servicio - 30921\n",
      "cosa - 30713\n",
      "punto - 30525\n",
      "permitir - 30401\n",
      "ir - 30327\n",
      "lugar - 29913\n",
      "equipo - 29416\n",
      "vivir - 29409\n",
      "trabajar - 29223\n",
      "problema - 29061\n",
      "salud - 28420\n",
      "nacional - 28376\n",
      "general - 28294\n",
      "zona - 28262\n",
      "proyecto - 27875\n",
      "estar - 27870\n",
      "hacer - 27630\n",
      "encontrar - 27543\n",
      "pp - 27417\n",
      "dato - 27160\n",
      "esperar - 26729\n",
      "familia - 26507\n",
      "cambio - 26367\n",
      "recordar - 26328\n",
      "número - 26276\n",
      "acabar - 25543\n",
      "alto - 25359\n",
      "venir - 25255\n",
      "ley - 25227\n",
      "derecho - 25050\n",
      "sanitario - 25034\n",
      "frente - 24832\n",
      "joven - 24441\n",
      "i - 24296\n",
      "decir - 24206\n",
      "empezar - 23954\n",
      "seguridad - 23931\n",
      "importante - 23911\n",
      "sistema - 23791\n",
      "historia - 23743\n",
      "medio - 23719\n",
      "contar - 23322\n",
      "asegurar - 23301\n"
     ]
    }
   ],
   "source": [
    "\n",
    "# Suponiendo que 'data' es tu DataFrame con la columna 'CONTENIDO A ANALIZAR' y la columna 'ODIO'\n",
    "\n",
    "# Crear un DataFrame separado para comentarios de odio y no odio\n",
    "comentarios_odio = data[data['ODIO'] == True]\n",
    "comentarios_no_odio = data[data['ODIO'] == False]\n",
    "\n",
    "# Función para obtener los lemas de los tokens en un comentario\n",
    "def obtener_lemas(comentario):\n",
    "    doc = nlp(comentario)\n",
    "    return [token.lemma_ for token in doc if token.is_alpha and not token.is_stop]\n",
    "\n",
    "# Función para obtener los 100 lemas más comunes en un grupo de comentarios\n",
    "def lemas_mas_comunes(comentarios):\n",
    "    lemas = []\n",
    "    for comentario in comentarios:\n",
    "        lemas.extend(obtener_lemas(comentario))\n",
    "    contador_lemas = Counter(lemas)\n",
    "    return contador_lemas.most_common(100)\n",
    "\n",
    "# Obtener los 100 lemas más comunes en comentarios de odio\n",
    "lemas_odio = lemas_mas_comunes(comentarios_odio['CONTENIDO A ANALIZAR'])\n",
    "\n",
    "# Obtener los 100 lemas más comunes en comentarios de no odio\n",
    "lemas_no_odio = lemas_mas_comunes(comentarios_no_odio['CONTENIDO A ANALIZAR'])\n",
    "\n",
    "print(\"100 lemas más comunes en comentarios de odio:\")\n",
    "for lema, frecuencia in lemas_odio:\n",
    "    print(lema, \"-\", frecuencia)\n",
    "\n",
    "print(\"\\n100 lemas más comunes en comentarios de no odio:\")\n",
    "for lema, frecuencia in lemas_no_odio:\n",
    "    print(lema, \"-\", frecuencia)"
   ]
  },
  {
   "cell_type": "markdown",
   "metadata": {},
   "source": [
    "<b>Incluye aquí, debajo de la línea, la explicación de tu respuesta</b>\n",
    "<hr>\n",
    " "
   ]
  },
  {
   "cell_type": "markdown",
   "metadata": {},
   "source": [
    "<span style=\"font-size: 14pt; font-weight: bold; color: #0098cd;\">Pregunta 11.</span>\n",
    "<span style=\"font-size: 14pt; font-weight: bold; color: #0098cd;\">¿Es posible utilizar alguna de las características extraídas en las preguntas anteriores para determinar si un mensaje contiene odio? Justifica tu respuesta con el análisis estadístico que consideres necesario.</span>"
   ]
  },
  {
   "cell_type": "code",
   "execution_count": null,
   "metadata": {},
   "outputs": [],
   "source": [
    "# Incluye aquí el código generado para poder responder a tu pregunta\n",
    "'''\n",
    "Sí, es posible utilizar algunas de las características extraídas en las preguntas anteriores para determinar si un mensaje contiene odio. Sin embargo, la eficacia de estas características puede variar dependiendo de la naturaleza de los comentarios y de la calidad de los datos.\n",
    "\n",
    "Por ejemplo, algunas características que podrían ser útiles para identificar comentarios que contienen odio incluyen:\n",
    "\n",
    "Entidades Nombradas (NER) de tipo PERSON: Los comentarios que contienen nombres de personas específicas pueden ser más propensos a contener discurso de odio dirigido hacia individuos.\n",
    "Palabras ofensivas o negativas: La presencia de palabras ofensivas o negativas en los comentarios puede ser indicativa de contenido odioso.\n",
    "Combinaciones de género y número en sustantivos: Algunas combinaciones de género y número en sustantivos pueden estar asociadas con expresiones de odio o sesgo.\n",
    "Para justificar la utilidad de estas características, podríamos realizar un análisis estadístico que compare la frecuencia de estas características en los comentarios de odio y no odio. Por ejemplo, podríamos calcular las siguientes métricas:\n",
    "\n",
    "Frecuencia promedio de entidades NER de tipo PERSON: Comparar la frecuencia promedio de entidades de tipo PERSON en comentarios de odio y no odio.\n",
    "Frecuencia promedio de palabras ofensivas o negativas: Comparar la frecuencia promedio de palabras ofensivas o negativas en comentarios de odio y no odio.\n",
    "Frecuencia promedio de combinaciones de género y número en sustantivos: Comparar la frecuencia promedio de combinaciones de género y número en sustantivos en comentarios de odio y no odio.\n",
    "Podríamos utilizar pruebas estadísticas como la prueba t de Student o la prueba de Wilcoxon-Mann-Whitney para determinar si estas diferencias son estadísticamente significativas.\n",
    "\n",
    "Si encontramos que alguna de estas características tiene una frecuencia significativamente mayor en los comentarios de odio en comparación con los comentarios no odio, podríamos utilizar esa característica como un indicador potencial de contenido odioso. Sin embargo, es importante tener en cuenta que ninguna característica individual puede ser definitiva para determinar si un comentario contiene odio, y es probable que un enfoque combinado de múltiples características sea más efectivo. Además, siempre es importante considerar el contexto y la interpretación humana al analizar comentarios para determinar si contienen odio.\n",
    "\n",
    "'''"
   ]
  },
  {
   "cell_type": "markdown",
   "metadata": {},
   "source": [
    "<b>Incluye aquí, debajo de la línea, la explicación de tu respuesta</b>\n",
    "<hr>\n",
    " "
   ]
  }
 ],
 "metadata": {
  "kernelspec": {
   "display_name": "Python 3 (ipykernel)",
   "language": "python",
   "name": "python3"
  },
  "language_info": {
   "codemirror_mode": {
    "name": "ipython",
    "version": 3
   },
   "file_extension": ".py",
   "mimetype": "text/x-python",
   "name": "python",
   "nbconvert_exporter": "python",
   "pygments_lexer": "ipython3",
   "version": "3.9.5"
  }
 },
 "nbformat": 4,
 "nbformat_minor": 4
}
