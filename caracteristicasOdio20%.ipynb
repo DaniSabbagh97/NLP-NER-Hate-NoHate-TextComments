{
 "cells": [
  {
   "cell_type": "markdown",
   "metadata": {},
   "source": [
    "**Universidad Internacional de La Rioja (UNIR) - Máster Universitario en Inteligencia Artificial - Procesamiento del Lenguaje Natural** "
   ]
  },
  {
   "cell_type": "markdown",
   "metadata": {},
   "source": [
    "***\n",
    "Datos del alumno (Nombre y Apellidos): Daniel Sabbagh Pastor\n",
    "\n",
    "Fecha: 28/04/2024\n",
    "***"
   ]
  },
  {
   "cell_type": "markdown",
   "metadata": {},
   "source": [
    "<span style=\"font-size: 20pt; font-weight: bold; color: #0098cd;\">Trabajo: Named-Entity Recognition</span>\n",
    "\n",
    "**Objetivos** \n",
    "\n",
    "Con esta actividad se tratará de que el alumno se familiarice con el manejo de la librería spacy, así como con los conceptos básicos de manejo de las técnicas NER\n",
    "\n",
    "**Descripción**\n",
    "\n",
    "En esta actividad debes procesar de forma automática un texto en lenguaje natural para detectar características básicas en el mismo, y para identificar y etiquetar las ocurrencias de conceptos como localización, moneda, empresas, etc.\n",
    "\n",
    "En la primera parte del ejercicio se proporciona un código fuente a través del cual se lee un archivo de texto y se realiza un preprocesado del mismo. En esta parte el alumno tan sólo debe ejecutar y entender el código proporcionado.\n",
    "\n",
    "En la segunda parte del ejercicio se plantean una serie de preguntas que deben ser respondidas por el alumno. Cada pregunta deberá responderse con un fragmento de código fuente que esté acompañado de la explicación correspondiente. Para elaborar el código solicitado, el alumno deberá visitar la documentación de la librería spacy, cuyos enlaces se proporcionarán donde corresponda."
   ]
  },
  {
   "cell_type": "markdown",
   "metadata": {},
   "source": [
    "# Parte 1: carga y preprocesamiento del texto a analizar"
   ]
  },
  {
   "cell_type": "markdown",
   "metadata": {},
   "source": [
    "Observa las diferentes librerías que se están importando."
   ]
  },
  {
   "cell_type": "code",
   "execution_count": 4,
   "metadata": {},
   "outputs": [],
   "source": [
    "import pathlib\n",
    "import spacy\n",
    "import pandas as pd\n",
    "from spacy import displacy\n",
    "import csv\n",
    "import es_core_news_md"
   ]
  },
  {
   "cell_type": "markdown",
   "metadata": {},
   "source": [
    "El siguiente código simplemente carga y preprocesa el texto. Para ello, lo primero que hace es cargar un modelo de lenguaje previamente entrenado. En este caso, se utiliza <i>es_core_news_md</i>: \n",
    "\n",
    "https://spacy.io/models/es#es_core_news_md\n"
   ]
  },
  {
   "cell_type": "code",
   "execution_count": 5,
   "metadata": {},
   "outputs": [],
   "source": [
    "nlp = es_core_news_md.load()"
   ]
  },
  {
   "cell_type": "markdown",
   "metadata": {},
   "source": [
    "El objeto <i>nlp</i> permite utilizar el modelo de lenguaje cargado, de forma que se puede procesar un texto y obtenerlo en su versión preprocesada. Así, nos permite realizar las diferentes tareas. En este caso, vamos a utilizar el pipeline para hacer un preprocesamiento básico, que consiste en tokenizar el texto."
   ]
  },
  {
   "cell_type": "code",
   "execution_count": 6,
   "metadata": {},
   "outputs": [
    {
     "name": "stderr",
     "output_type": "stream",
     "text": [
      "C:\\Users\\Dani\\AppData\\Local\\Temp\\ipykernel_18672\\238657758.py:6: DtypeWarning: Columns (5,6,7,8,9,10,11,12,13,14) have mixed types. Specify dtype option on import or set low_memory=False.\n",
      "  data = pd.read_csv(filename, delimiter=';', encoding=\"utf-8\", encoding_errors='ignore')\n"
     ]
    },
    {
     "data": {
      "text/plain": [
       "0                                                                                                                                                                                                                                                                                                                                                                                                                                                                                                                                                                                                                                                                                                                                                                                                                                                                                                                                                      el barça nunca acaeza ante un segundo b ni ante un tercera , ya estan los arbitros para impedirlo....lo de messi es una autentica vergüenza\n",
       "1    el real madrid ha puesto punto y final a su andadura en la copa del rey en el primer escalón. los de zidane han caído ante el alcoyano, de segunda b, a pesar de empezar ganando y jugar con un hombre menos en la prórroga. el técnico francés dispuso un equipo plagado de los menos habituales, con vinicius y mariano en ataque. ninguno de los dos logró crear ocasiones. fue militao el que marcó el gol del madrid, justo antes del descanso. en la segunda parte intentaron cerrar el partido, pero sin el colmillo suficiente y el modesto alcoyano aprovechó un córner para empatar el partido a cinco minutos para el final. el empate sentó como un jarro de agua fría a los blancos, que lo intentaron en el tiempo extra a falta de cinco minutos, el casanova consiguió el gol más importante de su vida, que vale la clasificación para octavos de la copa. el madrid de zidane queda apeado del torneo una vez más, por lo que el francés se quedará sin pelear por el único título que no ha conseguido nunca. así hemos contado el minuto a minuto del partido en directo:\n",
       "2                                                                                                                                                                                                                                                                                                  cristina cifuentes podría haber sido la presidenta de madrid que todavía añoran los madrileños, a la vista de lo que es ayuso. podría haber llegado a ser la presidenta del pp, de madrid, por supuesto, pero a nivel estatal quizás también. pero su mala cabeza hundió su futuro político en el fango, de donde es imposible regresar. qué necesidad tenía de demostrar que había sacado un máster, si ni siquiera casado lo tiene. urdió un plan, con amenazas y abuso de poder, para falsificar un documento oficial, penado con cárcel, que no necesitaba para su carrera política. y para rematar el desastre le pillaron hurtando unas cremas faciales que podría haber pagado tranquilamente, pero su cleptomanía oculta y la cámara indiscreta la destrozaron. una vergüenza de libro.\n",
       "3                                                                                                                                                                                                                                                                                                                                                                                                                                                                                                                                                                                                                                                                                                                                                                                                                                                                                                                                                                                            habría que reabrir el caso. el supremo se dedica a proteger a los de siempre. hay voluntad para ello?\n",
       "4                                                                                                                                                                                                                 me parece un poco exagerado pedir más de tres años de prisión a cifuentes por este caso. habría que investigar de quien destapó el caso, al igual que las cremas, seguro que fue de \"fuego amigo\", de alguien que no le interesaba que destapara los casos internos de corrupción en los peperos madrileños como amenazó. al menos esta mujer no se le conoce que se llevara dinero público ni que abasteciera al partido, estorbaba a mucha gente \"amiga\".  mucho más grave fue los del título académico  de casadete regalado con convalidaciones y su master de tres días de harvard en aravaca. comparada con la actual caótica, no tiene ni punto de comparación, que cuando habla sube el pan a costa de decir sandez tras sandez. mientras, la otra presidenta con título nobiliario, que llenó por lo menos al partido de dinero ilícito, sigue campando por sus anchas.\n",
       "5                                                                                                                                                                                                                                                                                                                                                                                                                                    parece que todos los delincuentes niegan las evidencias y pruebas hasta el ultimo momento. deberia sancionarse a aquellos delincuentes que prorrogan el juicio hasta limites insospechados, con pruebas irrefutables. si la directora en un rasgo de honestidad dice que falsifico y por orden de ... el \"hagan juego señores, no va mas\" deberia finalizarse. pero para que cifuentes haya delinquido se necesitan cooperadores y complices, de estos hay muchos, empezando por el rector, la asesora ... etc, etc. en la juan carlos i (vaya una casualidad, dios los cria y ellos se juntan) parece que hay mas irregularidades que en la sede del pp-vox.\n",
       "6                                                                                                                                                                                                                                                                                                                                                                                                                                                                                                                                                                                                                                                                                                                                                                                                                                                                                                                                  preguntárselo al fracasado, media carrera en 6 meses, un máster en aravaca eeuu y otro máster presencial sin ir a clase, este es el nivel de corrupción del pp.\n",
       "7                                                                                                                                                                                                                                                                                                                                                                                                                                                                                                                                                                                                                                                                                                                                                                          tenemos años para ver a esta asociación delictiva en los banquillos ante los jueces. más agilidad, sres. jueces y que reciban, ni más ni menos lo que les corresponde por sus corrupciones. pero tienen que caer todos, se llamen como se llamen, y devolver los 130 mil millones de euros que robaron a los españoles.\n",
       "8                                                                                                                                                                                                                                                                                                                                                                                                                                                                                                                                                                                                                                                                                                                                                                                                                                                                                                                una \"fardera\" como presidenta de la comunidad de madrid! cosas veredes. a quien molestaría que hasta sus propios compañeros filtraron el video de los potitos de crema a la tele?\n",
       "9                                                                                                                                                                                                                                                                                                                                                                                                                                                                                                                                                                                                                                                                                                                                                                                                                                                                                                                                                                                       uno a uno tienen que ir cayendo frente a la justicia los miembros de la asociación. basta ya de impunidad!\n",
       "Name: CONTENIDO A ANALIZAR, dtype: object"
      ]
     },
     "execution_count": 6,
     "metadata": {},
     "output_type": "execute_result"
    }
   ],
   "source": [
    "filename = \"./comentariosOdio.csv\"\n",
    "#Lectura del csv, selecciono la opción de que no me corte las columnas que me muestra, para visualizar el dataframe entero\n",
    "pd.set_option('display.max_colwidth', None)\n",
    "#Ha habido bastantes problemas para leer el archivo, lo que hice fue abrirlo como archivo txt con notepad y volverlo a guardar como archivo UTF-8\n",
    "#Para posteriormente leerlo como UTF-8 e ignorando los casos en los que haya errores\n",
    "data = pd.read_csv(filename, delimiter=';', encoding=\"utf-8\", encoding_errors='ignore')  \n",
    "data['CONTENIDO A ANALIZAR'].head(10)"
   ]
  },
  {
   "cell_type": "markdown",
   "metadata": {},
   "source": [
    "El código anterior carga el archivo CSV (opcionalmente con un límite de líneas a leer) y genera la variable <i>data</i>, que contiene un Dataframe (https://pandas.pydata.org/docs/reference/api/pandas.DataFrame.html) con los datos leídos del CSV."
   ]
  },
  {
   "cell_type": "markdown",
   "metadata": {},
   "source": [
    "Te vendrá bien conocer la siguiente documentación:\n",
    "<ul>\n",
    "    <li>https://spacy.io/api/doc</li>\n",
    "    <li>https://spacy.io/api/token</li>\n",
    "    <li>https://spacy.io/api/morphology#morphanalysis</li>\n",
    "</ul>"
   ]
  },
  {
   "cell_type": "markdown",
   "metadata": {},
   "source": [
    "### Playground\n",
    "\n",
    "Utiliza este espacio para hacer pruebas y ensayos con las variables generadas con el código previo. A modo de ejemplo, se ofrece código que realiza las siguientes tareas: \n",
    "\n",
    "\n",
    "- leer un número dado de líneas del Dataframe y generar dos listas con los valores (se pueden leer directamente del DataFrame, se muestra el ejemplo como una opción más)\n",
    "- procesar el texto de cada comentario\n",
    "\n",
    "\n",
    "Para procesarlo, hay utilizar el objeto <i>nlp</i> y así obtener objetos de la clase <i>Doc</i> (https://spacy.io/api/doc)\n",
    "\n",
    "Visita la documentación de dicha clase y experimenta probando las diferentes funciones y atributos "
   ]
  },
  {
   "cell_type": "code",
   "execution_count": 7,
   "metadata": {},
   "outputs": [
    {
     "name": "stdout",
     "output_type": "stream",
     "text": [
      "Nombre Columna: Unnamed 9\n",
      "Nulos 574912\n",
      "Totales 574915\n",
      "No nulos:  3\n",
      "Nombre Columna: Unnamed 10\n",
      "Nulos 574912\n",
      "Totales 574915\n",
      "No nulos:  3\n",
      "Nombre Columna: Unnamed 11\n",
      "Nulos 574913\n",
      "Totales 574915\n",
      "No nulos:  2\n",
      "Nombre Columna: Unnamed 12\n",
      "Nulos 574913\n",
      "Totales 574915\n",
      "No nulos:  2\n",
      "Nombre Columna: Unnamed 13\n",
      "Nulos 574913\n",
      "Totales 574915\n",
      "No nulos:  2\n",
      "Nombre Columna: Unnamed 14\n",
      "Nulos 574913\n",
      "Totales 574915\n",
      "No nulos:  2\n",
      "Nombre Columna: Unnamed 15\n",
      "Nulos 574913\n",
      "Totales 574915\n",
      "No nulos:  2\n",
      "Se han borrado 3 filas.\n",
      "0.0    86.591339\n",
      "0.0    11.222413\n",
      "4.0     1.675909\n",
      "1.0     0.229774\n",
      "4.0     0.128715\n",
      "5.0     0.035310\n",
      "3.0     0.029570\n",
      "2.0     0.025569\n",
      "1.0     0.009741\n",
      "6.0     0.001739\n",
      "5.0     0.001392\n",
      "6.0     0.000522\n",
      "3.0     0.000348\n",
      "2.0     0.000174\n",
      "Name: INTENSIDAD, dtype: float64\n",
      "Número de registros en la mitad de los datos con 'ODIO' True: 2459\n",
      "Número de registros en la mitad de los datos con 'ODIO' False: 112468\n"
     ]
    }
   ],
   "source": [
    "############\n",
    "##LIMPIEZA##\n",
    "############\n",
    "#Debido a que la extensión del dataframe era de 16 columnas, quise limpiarlo para que solo me quedara información útil.\n",
    "#De la columna 9 a la 15, eran llamadas Unnamed y únicamente con valores NaN\n",
    "#Con el bucle busco demostrar cuantos valores nulos hay en cada columna para comparar la diferencia frente al total\n",
    "\n",
    "for a in range(9,16):\n",
    "    nulos = data[f'Unnamed: {a}'].isnull().sum()\n",
    "    print(f\"Nombre Columna: Unnamed {a}\")\n",
    "    print(\"Nulos\", nulos)\n",
    "    print(\"Totales\",len(data))\n",
    "    print(\"No nulos: \", (len(data)-nulos))\n",
    "#Después de comprobar que son valores NaN y columnas unnamed con muchos valores despreciables, procedo a eliminarlas\n",
    "for b in range(9,16):\n",
    "    data = data.drop(f'Unnamed: {b}', axis=1)\n",
    "\n",
    "#Obteniendo los valores únicos de la columna Intensidad, visualizo que hay 3 registros que solo se usan una vez cada uno, por lo que parecía haber 3 registros del #dataset que estarían en la posición equivocada, por lo que, sabiendo cuales son, procedo a borrarlos (eran esos dos textos que parecen calles o ubicaciones y un #float) \n",
    "valoresNoDeseados = [\" la vila joiosa, 52\", \" tanya kozyreva en ucrania\", 14] \n",
    "filasTotales = len(data)\n",
    "data = data[~data['INTENSIDAD'].isin(valoresNoDeseados)]\n",
    "filasBorradas = filasTotales - len(data)\n",
    "print(f\"Se han borrado {filasBorradas} filas.\")\n",
    "conteoValores = data['INTENSIDAD'].value_counts()\n",
    "\n",
    "pctValores = (conteoValores / len(data)) * 100\n",
    "print(pctValores)\n",
    "\n",
    "#Uso de la función dropNa de pandas para eliminar los valores NaN de las columnas CONTENIDO A ANALIZAR y INTENSIDAD\n",
    "data = data.dropna(subset=['CONTENIDO A ANALIZAR', 'INTENSIDAD'])\n",
    "#Se requiere crear una columna que pueda determinar si Hay o no Hay Odio, por lo que se procede a crear una función que asigne True cuando el valor de intensidad #es >0 y por el contrario False cuando sea 0\n",
    "#Por lo que primero se convierte a valores numéricos para aplicarle la condición correctamente.\n",
    "\n",
    "data['INTENSIDAD'] = pd.to_numeric(data['INTENSIDAD'], errors='coerce')\n",
    "def calcular_odio(valor):\n",
    "    if pd.isnull(valor):\n",
    "        return False  #Si encuentra valores nulos retornará False, se entiende que no hay odio si encuentra valores creados por el parámetro coerce (NaN o NaT)\n",
    "    return valor > 0\n",
    "\n",
    "#Aplico la función calcular_odio a la columna 'INTENSIDAD' y crea la nueva columna 'ODIO'\n",
    "data['ODIO'] = data['INTENSIDAD'].apply(calcular_odio)\n",
    "\n",
    "data['ODIO'].head(10)\n",
    "\n",
    "#####################\n",
    "##REDUCCIÓN DATASET##\n",
    "#####################\n",
    "#Debido a que las ejecuciones de cada ejercicio tardaban entre 90 y 110 minutos he procedido quedarme con un 20% de los datos, eso sí, buscando siempre que me #quede la misma proporción de datos con respecto a la nueva columna ODIO.\n",
    "#Los resultados de ambas ejecuciones, tanto con el 100% de los datos como con el 20% son resultados muy parecidos. Al final de esta celda de ejecución se mostrarán los resultados con las ejecuciones completas.\n",
    "\n",
    "#Se busca crear una máscara para cada parte del contenido\n",
    "dataOdio = data[data['ODIO'] == True]\n",
    "dataNoOdio = data[data['ODIO'] == False]\n",
    "\n",
    "Odio20 = dataOdio.iloc[:len(dataOdio) // 5]\n",
    "NoOdio20 = dataNoOdio.iloc[:len(dataNoOdio) // 5]\n",
    "\n",
    "#Como se han dividido odio y no odio por separado procedo a concatenarlos.\n",
    "data_20 = pd.concat([Odio20, NoOdio20])\n",
    "#El nuevo archivo data_20 contiene el 20% de los valores que contenía el antiguo\n",
    "\n",
    "print(\"Número de registros en la mitad de los datos con 'ODIO' True:\", len(data_20[data_20['ODIO']==True]))\n",
    "print(\"Número de registros en la mitad de los datos con 'ODIO' False:\", len(data_20[data_20['ODIO']==False]))\n",
    "\n",
    "\n"
   ]
  },
  {
   "cell_type": "code",
   "execution_count": 8,
   "metadata": {},
   "outputs": [
    {
     "data": {
      "text/plain": [
       "0                                                                                                                                                                                                                                                                                                                                                                                                                                                                                                                                                                                                                                      barça acaezar b arbitro impedir él messi autentico vergüenza\n",
       "2                                                                                                                                                                                                                                              cristín cifuent presidenta madrid añorar madrileño vista ayuso llegar presidenta pp madrid nivel estatal malo cabeza hundir futuro político fango imposible regresar necesidad demostrar sacar máster siquiera casado urdir plan amenaza abuso falsificar documento oficial penado cárcel necesitar carrera político rematar desastre pillar hurtar crema facial pagar tranquilamente cleptomanía oculto cámara indiscreto destrozar vergüenza libro\n",
       "3                                                                                                                                                                                                                                                                                                                                                                                                                                                                                                                                                                                                                                              haber reabrir caso supremo dedicar proteger voluntad\n",
       "4                                                                                                                                                                                                   exagerado pedir año prisión cifuent caso haber investigar destapar caso crema seguro fuego amigo alguien interesar destapar caso interno corrupción pepero madrileño amenazar mujer conocer llevar dinero público abastecierir partido estorbar gente amiga   grave título académico   casadete regalado convalidación master harvard aravaca comparado actual caótico punto comparación subir pan costa sandez sandez presidenta título nobiliario llenar partido dinero ilícito campar anchas\n",
       "5                                                                                                                                                                                                                                                                                                                          delincuente negar evidencia prueba momento deberiar sancionar él delincuente prorrogar juicio limit insospechado prueba irrefutable directora rasgo honestidad falsifico orden hagan juego señor deberiar finalizar él cifuent delinquir necesitar cooperador compliz empezar rector asesora etc etc. juan carlos i casualidad dio cria juntar irregularidad sede pp-vox\n",
       "6                                                                                                                                                                                                                                                                                                                                                                                                                                                                                                                                                                                       preguntárselo fracasado medio carrera 6 mes máster aravaca eeuu máster presencial clase nivel corrupción pp\n",
       "7                                                                                                                                                                                                                                                                                                                                                                                                                                                                                                                                           año asociación delictivo banquillo juez agilidad sr juez recibir corresponder corrupción caer llamar llamar devolver 130 mil millón euros robar español\n",
       "8                                                                                                                                                                                                                                                                                                                                                                                                                                                                                                                                                                                                 fardero presidenta comunidad madrid cosa vered molestar compañero filtrar video potito crema tele\n",
       "9                                                                                                                                                                                                                                                                                                                                                                                                                                                                                                                                                                                                                                          caer frente justicia miembro asociación bastar impunidad\n",
       "10                                                                                                                                                                                                                                                                                                                                                                                                                                                                                                                                                                                                                                               viendo él directo acaso cualquiera fiar periodista\n",
       "11                                                                                                                                                                                                                                                                                                                                                                                                                                                                                                     profesora declaración pablo pedro prometer puesto paraíso jesús gente calaña metoo forrar haciend opelicula lego denunciar lance armstrong devolver pasta recibir patrocinador gente cobarde\n",
       "13                                                                                                                                                                                                                                                                                                                                                                                                                                                                                                                                                                                                                                                                                 falconetti acaso\n",
       "14                                                                                                                                                                                                                                                                                                                                                                                                                                                                                                   entender ud juicio falsificar documento público delito josé manuel franco criticable ud j.m franco callar asumir culpa cristín cifuent tomar imbecil creerer mentira visto andar desencaminado\n",
       "15    ocurrir madrid esperanza aguirre presidenta ca madrid imputado caso corrupción nombrar estanque rana corrupto mano derecho tomador testigo presidencia madrid josé ignacio gonzález cárcel corrupción imputado caso corrupción ático estepona sucesora cristín cifuentes juzgar corrupción falsificación documento oficial penado año cárcel sucesor cifuent marchar aburrido pp afiliar ciudadano partido peligro extinción llegar elección ínclita ayuso perder conseguir puesto trabajo presidenta ca gracias voto negociación partido extremo derecha vox isabel díaz ayuso ida presidenta habler gestión nefasto annus horribilis madrid año 2020 malo 2021 empezar ayuso frente gestión\n",
       "17                                                                                                                                         actitud tribunal entidad excusa acúmulo prueba evidencia permitir altanería soberbia impropio alguien comparecer tribunal investigada-acusada múltiple delito ver actitud sr juez causa amedrentar continuamente fiscal representante acusación particular universidad obvio defensa ataque sr.juez fiscal entender enroque pp cgpj importancia designación juez órgano rosario proceso pendiente alto cargo pp fabricante cortina humo ir avivar fuego hablar venezuela sr sánchez coleta hablar corruptela es@ señor@ vd formar partido andalucia oler\n",
       "20                                                                                                                                                                                                                                                                                                                                                                                                                                                                                                                        actuar fe simplemente decir alguien fundamento democratico apuntar necesario hacer él pregunta universidad pp madrid capaz masters pùpilos cambio jugoso subvención mafia\n",
       "21                                                                                                                                                                                                                                                                                                                                                                                                                                                                                                                                                                                                                                        actuar actuar presuntamente coaccionar profesora fe traca\n",
       "22                                                                                                                                                                                                                                                                                                                                                                                                                                                                                                                                                                                                                 cela derecha dar vergüenza ajeno decir político actual vergüenza ajeno izquierda\n",
       "23                                                                                                                                                                                                                                                                                                                                                                                                                                                                                                                                                                                                                                                             celar camilo diz dar vergüenza ajeno\n",
       "24                                                                                                                                                                                                                                                                                                                                                                                                                                                                                                                                                                             morro persona universidad español título oficio solicitar él pagar tasa suponer pedir pagar político vergüenza ajeno\n",
       "25                                                                                                                                                                                                                                                                                                                                                                                                                                                                                                                                                                           cualquiera escribir trabajo máster tesis doctoral enorme esfuerzo costar cariño guardar copia miente qur hacer ingenio\n",
       "26                                                                                                                                                                                                                                                                                                                                                                                                                                                                                                                                                               crema quedar título falso tertulián telecinco llegar hora traca mentira culpar acólito buscar vergüenza ajeno salir señora cifuent\n",
       "27                                                                                                                                                                                                                                                                                                                                                                                                                                                                                                                                                                 ex obligación tiempo asistir clase presencial universidad cambiar sitio crema   estantería supermercado bolso   encontrar tiempo\n",
       "28                                                                                                                                                                                                                                                                                                                                                                                                                                                                                                                                                                                                                           efectivamente enrique álvarez conde fallecer 2019 intentar responsable\n",
       "29                                                                                                                                                                                                                                                                                                                                                                                                                                                                                                                                                                                                  cinismo señora límite asegurar poseer título presentar cámara pillado mentira culpa universidad\n",
       "30                                                                                                                                                                                                                                                             difunto e. álvarez conde actuar cátedra derecho constitucional conventículo master bendición académico administrativo rector gonzález-trevijano tc fernando suárez concernido ramo lópez amar   president cam r- gallardón investigada aguirre acusado i. gonzález cifuent corriente ayuso cuarto siglo contemplar gracias mayoría absoluto obtenido   votante pp finalmente condenado sentencia firme nº 20/2018   an confirmado ts\n",
       "31                                                                                  magistrado dirigir juicio oral master público urjc cam   ap madrid sección nº 15 ó 16 continuo duda prensa integrado formar trío dictar sentencia calidad   administrador justicia emanar pueblo exclusivo titular constitucional poder seno desarrollar sesión público   garantía parte esclarecer grave hecho sucedido año expedición título académico favor dirigente pp madrileño práctica evidenciar ausencia riguroso sistema enseñanza eficaz contrastado claustro sucesivo rector    funcionario servicio público ciudadano alcanzar progreso científico   ético igualar yo competencia   resto país ue\n",
       "32                                                                                                                                                                                                                                                                                                                                                                                                                                                                                                                                                                                                                                                                                  muerto culpable\n",
       "34                                                                                                                                                                                                                                                                                                                                                                                                                                                                                                                                                                                                                             resto masterizado pepero nerviosos.casado jugar pleno máster carrera\n",
       "35                                                                                                                                                                                                                                                                                                                                                                                                                                                                                                                                                                                                                                     realidad salir derecha español culpar corruptela muerto cosa\n",
       "36                                                                                                                                                                                                                                                                                                                                                                                                                                                                                                                                                                                                                                                suma empezar retomar término causar estupor casta\n",
       "37                                                                                                                                                                                                                                                                                                                                                                                                                                                                                                                                                                                                            entender pedir 3 año 3 mes cárcel largu punto vista espectador ridículamente patético\n",
       "38                                                                                                                                                                                                                                                                                                                                                                                                                                                                                                                                                                                                               negar endogamia terrible imagino independiente deber contrato basura apagar vámono\n",
       "39                                                                                                                                                                                                                                                                                                                                                                                                                                                                                                                                                                                                                 ep periódico permitir parir pp condición comentario mención psoe sanchez zp psoe\n",
       "40                                                                                       cara bonito pp futuro decencia analizar trayectoria profesional politico posiblemente asombrariar sra miembro jet society tenia preocupar titulo posicion social vip trepar subir posicion social precio ser careciar pedigri apuntar master master obtener respaldo intelectual formativo careciar administrativo universidad madrid saco cerrera ganar posición subir nivel cuyo tribunal oposición contar intir amigo siguio escalar universidad rey juan carlos creado controlado comunidad madrid ppero cacha cumulo adscribir universidad parangon rector ver irregular exigir seudo auditoria farsa\n",
       "41                                                                                                                                                                                                                                                                                                                                                                                                                                                                                                                                                                                                                                                                                     biden jauria\n",
       "43                                                                                                                                                                                                                                                                                                                                                                                                                                                                                                                                                                                                                                                            menuda mierda igualdad discriminación\n",
       "44                                                                                                                                                                                                                                                                                                                                                                                                                                                                                                                                                                                                                                                                           escoria clase político\n",
       "45                                                                                                                                                                                                                                                                                                                                                                                                                                                                                                                                                                                                                                                            estar forrado hacienda comunista rico\n",
       "46                                                                                                                                                                                                                                                                                                                                                                                                                                                                                                                                                                                                                                                                  credibilidad tener alma cántaro\n",
       "47                                                                                                                                                                                                                                                                                                                                                                                                                                                                                                                                                                                                                                                                  @mosso calma eh @adacolau azote\n",
       "48                                                                                                                                                                                                                                                                                                                                                                                                                                                                                                                                                                                                                                                                              entrar tonto españa\n",
       "49                                                                                                                                                                                                                                                                                                                                                                                                                                                                                                                                                                                                                                                      aprovechar él partido veleta votante veleta\n",
       "50                                                                                                                                                                                                                                                                                                                                                                                                                                                                                                                                                                                                                                                                             periódico lamentable\n",
       "51                                                                                                                                                                                                                                                                                                                                                                                                                                                                                                                                                                                                                                                     mierda pa l q escribir repartir pa l q creer\n",
       "52                                                                                                                                                                                                                                                                                                                                                                                                                                                                                                                                                                                                                                               señor illa dejesar tonteria pensar elección payaso\n",
       "53                                                                                                                                                                                                                                                                                                                                                                                                                                                                                                                                                                                                                                                                              jodar sicario casta\n",
       "54                                                                                                                                                                                                                                                                                                                                                                                                                                                                                                                                                                                                                                               igualito presidente ayudar yde desidia hecho culpa\n",
       "55                                                                                                                                                                                                                                                                                                                                                                                                                                                                                                                                                                                                                                                                 enchufarar bmw chiringuito vivir\n",
       "56                                                                                                                                                                                                                                                                                                                                                                                                                                                                                                                                                                                                                                      míralo dejar paz madrid joder catalán dios pillir confesado\n",
       "Name: CONTENIDO A ANALIZAR TOKENIZED, dtype: object"
      ]
     },
     "execution_count": 8,
     "metadata": {},
     "output_type": "execute_result"
    }
   ],
   "source": [
    "###############################################\n",
    "##TOKENIZACIÓN, LEMMA, STOPWORDS Y PUNTUACIONES##\n",
    "###############################################\n",
    "\n",
    "#NECESITO CREAR ESTA CELDA PARA EJECUTAR POR SEPARADO LA LIMPIEZA.\n",
    "#Se genera la limpieza del contenido, buscando separar en tokens y quitar signos de puntuación y palabras vacías de significado.\n",
    "def limpiezaContenido(text):\n",
    "    doc = nlp(text)\n",
    "    tokens = [token.lemma_.lower() for token in doc if not token.is_stop and not token.is_punct]\n",
    "    return \" \".join(tokens)\n",
    "\n",
    "data_20['CONTENIDO A ANALIZAR TOKENIZED'] = data_20['CONTENIDO A ANALIZAR'].apply(limpiezaContenido)\n",
    "data_20['CONTENIDO A ANALIZAR TOKENIZED'].head(50)\n",
    "\n"
   ]
  },
  {
   "cell_type": "code",
   "execution_count": null,
   "metadata": {},
   "outputs": [],
   "source": [
    "#################################################\n",
    "##RESULTADOS CON EL 100% DE VALORES DEL DATASET##\n",
    "#################################################\n",
    "'''\n",
    "Pregunta 1:\n",
    "  Output:\n",
    "    Número de registros en el corpus: 574639\n",
    "    Número de registros en el corpus: 574639\n",
    "Pregunta 2:\n",
    "  Output:\n",
    "    El número total de palabras es: 62405613\n",
    "Pregunta 3:\n",
    "  Output:\n",
    "    Hay 108.6 palabras de media en cada comentario\n",
    "Pregunta 4:\n",
    "  Output:\n",
    "    Promedio de palabras en comentarios de odio: 15.96\n",
    "    Promedio de palabras en comentarios de no odio: 110.63\n",
    "Pregunta 5:\n",
    "  Output:\n",
    "    Promedio de oraciones en comentarios de odio: 1.56\n",
    "    Promedio de oraciones en comentarios de no odio: 3.93\n",
    "Pregunta 6:\n",
    "  Output:\n",
    "    Porcentaje de comentarios con entidades NER en comentarios de odio: 34.3\n",
    "    Porcentaje de comentarios con entidades NER en comentarios de no odio: 58.09\n",
    "Pregunta 7:\n",
    "  Output:\n",
    "    Porcentaje de comentarios con entidades NER de tipo PERSON en comentarios de odio: 18.88\n",
    "    Porcentaje de comentarios con entidades NER de tipo PERSON en comentarios de no odio: 28.85\n",
    "Pregunta 8:\n",
    "  Output:\n",
    "    Porcentaje de palabras en cada combinación posible en comentarios de odio:\n",
    "      ('Masc', 'Sing'): 29.62\n",
    "      ('Masc', 'Plur'): 15.23\n",
    "      ('Fem', 'Sing'): 34.15\n",
    "      ('N', 'S'): 6.37\n",
    "      ('Fem', 'Plur'): 8.55\n",
    "      ('N', 'Plur'): 3.68\n",
    "      ('N', 'Sing'): 1.84\n",
    "      ('Masc', 'S'): 0.36\n",
    "      ('Fem', 'S'): 0.21\n",
    "\n",
    "    Porcentaje de palabras en cada combinación posible en comentarios de no odio:\n",
    "      ('Masc', 'Sing'): 29.95\n",
    "      ('Fem', 'Sing'): 31.75\n",
    "      ('N', 'S'): 8.84\n",
    "      ('Fem', 'Plur'): 10.9\n",
    "      ('Masc', 'Plur'): 14.24\n",
    "      ('N', 'Sing'): 1.9\n",
    "      ('Fem', 'S'): 0.37\n",
    "      ('N', 'Plur'): 1.67\n",
    "      ('Masc', 'S'): 0.39\n",
    "\n",
    "Pregunta 9:\n",
    "  Output:\n",
    "    Entidades por tipo en comentarios de odio:\n",
    "      'PER': 2798\n",
    "      'LOC': 1399 \n",
    "      'MISC': 1047\n",
    "      'ORG': 624\n",
    "\n",
    "    Entidades por tipo en comentarios de no odio:\n",
    "      'LOC': 730972\n",
    "      'PER': 690686\n",
    "      'ORG': 212861\n",
    "      'MISC': 208855\n",
    "Pregunta 10: El Output se recorta a 5 lemas de cada grupo:\n",
    "  Output:\n",
    "    Comentarios de odio:\n",
    "      mierda - 866\n",
    "      puta - 782\n",
    "      asco - 575\n",
    "      gobierno - 542\n",
    "      panfleto - 487\n",
    "    Comentarios de no odio:\n",
    "      año - 171496\n",
    "      gobierno - 87342\n",
    "      persona - 83658\n",
    "      país - 77163\n",
    "      caso - 72298\n",
    "'''"
   ]
  },
  {
   "cell_type": "markdown",
   "metadata": {},
   "source": [
    "<span style=\"font-size: 14pt; font-weight: bold; color: #0098cd;\">Pregunta 1.</span>\n",
    "<span style=\"font-size: 14pt; font-weight: bold; color: #0098cd;\">¿Cuántos registros contiene el corpus?</span>"
   ]
  },
  {
   "cell_type": "code",
   "execution_count": 9,
   "metadata": {},
   "outputs": [
    {
     "name": "stdout",
     "output_type": "stream",
     "text": [
      "Número de registros en el corpus: 114927\n",
      "Número de registros en el corpus: 114927\n"
     ]
    }
   ],
   "source": [
    "# Incluye aquí el código generado para poder responder a tu pregunta\n",
    "#Forma 1:\n",
    "totalRows = len(data_20)\n",
    "print(\"Número de registros en el corpus:\", totalRows)\n",
    "#Forma 2:\n",
    "totalRows2 = data_20.shape[0]\n",
    "print(\"Número de registros en el corpus:\", totalRows2)\n"
   ]
  },
  {
   "cell_type": "markdown",
   "metadata": {},
   "source": [
    "<b>Incluye aquí, debajo de la línea, la explicación de tu respuesta</b>\n",
    "<hr>\n",
    "<p>En este fragmento de código, se está determinando el número de entradas en el corpus. Se han proporcionado dos métodos distintos para obtener esta información:</p>\n",
    "<ul>\n",
    "  <li>Método 1: Se emplea la función len() para calcular la longitud de data_20, que corresponde al número de entradas en el corpus.</li>\n",
    "  <li>Método 2: Se utiliza la propiedad shape[0] de data_20 para acceder al número de filas en el corpus, lo cual es igual al número de entradas.</li>\n",
    "</ul>\n",
    "<p>El resultado final en todos los casos es idéntico, demostrando que el corpus contiene un total de 114,927 entradas.</p>\n",
    " "
   ]
  },
  {
   "cell_type": "markdown",
   "metadata": {},
   "source": [
    "<span style=\"font-size: 14pt; font-weight: bold; color: #0098cd;\">Pregunta 2.</span>\n",
    "<span style=\"font-size: 14pt; font-weight: bold; color: #0098cd;\">¿Cuántas palabras totales hay en los comentarios del corpus?</span>"
   ]
  },
  {
   "cell_type": "code",
   "execution_count": 12,
   "metadata": {},
   "outputs": [
    {
     "name": "stdout",
     "output_type": "stream",
     "text": [
      "El número total de palabras es: 6518080\n"
     ]
    }
   ],
   "source": [
    "# Incluye aquí el código generado para poder responder a tu pregunta\n",
    "\n",
    "comentariosTexto = data_20['CONTENIDO A ANALIZAR TOKENIZED'].apply(lambda x: str(x))\n",
    "\n",
    "totalPalabras = comentariosTexto.apply(lambda x: len(x.split())).sum()\n",
    "\n",
    "print(f\"El número total de palabras es: {totalPalabras}\")\n"
   ]
  },
  {
   "cell_type": "markdown",
   "metadata": {},
   "source": [
    "<b>Incluye aquí, debajo de la línea, la explicación de tu respuesta</b>\n",
    "<hr>\n",
    "\n",
    "<ol>En este fragmento de código, se está calculando la cantidad total de palabras en los comentarios del conjunto de datos. Aquí se presenta una explicación detallada:</p>\n",
    "<ol>\n",
    "  <li>Se accede a la columna 'CONTENIDO A ANALIZAR TOKENIZED' del DataFrame data_20, la cual contiene los comentarios tokenizados.</li>\n",
    "  <li>Se aplica una función lambda a cada elemento de esta columna para asegurarse de que todos los valores sean tratados como cadenas de texto mediante str(x).</li>\n",
    "  <li>Posteriormente, se emplea otra función lambda en cada comentario tokenizado para dividirlo en palabras utilizando el método split().</li>\n",
    "  <li>Luego, se utiliza el método sum() para sumar el número total de palabras en todos los comentarios.</li>\n",
    "</ol>"
   ]
  },
  {
   "cell_type": "markdown",
   "metadata": {},
   "source": [
    "<span style=\"font-size: 14pt; font-weight: bold; color: #0098cd;\">Pregunta 3.</span>\n",
    "<span style=\"font-size: 14pt; font-weight: bold; color: #0098cd;\">¿Cuál el número promedio de palabras en cada comentario?</span>"
   ]
  },
  {
   "cell_type": "code",
   "execution_count": 13,
   "metadata": {},
   "outputs": [
    {
     "name": "stdout",
     "output_type": "stream",
     "text": [
      "Hay 56.715 palabras de media en cada comentario\n"
     ]
    }
   ],
   "source": [
    "# Incluye aquí el código generado para poder responder a tu pregunta\n",
    "#TotalPalabras es una variable del ejercicio 2\n",
    "commentsAVG = round(totalPalabras / totalRows,3)\n",
    "print(f\"Hay {commentsAVG} palabras de media en cada comentario\" )"
   ]
  },
  {
   "cell_type": "markdown",
   "metadata": {},
   "source": [
    "<b>Incluye aquí, debajo de la línea, la explicación de tu respuesta</b>\n",
    "<hr>\n",
    "\n",
    "<p>Se divide la cantidad total de palabras (totalPalabras) entre la cantidad total de registros en el conjunto de datos (totalRegistros). Esto se hace para calcular el promedio de palabras por comentario.</p>\n",
    "<p>El resultado se aproxima a tres decimales utilizando la función round() para obtener un valor más fácil de leer.</p>\n"
   ]
  },
  {
   "cell_type": "markdown",
   "metadata": {},
   "source": [
    "<span style=\"font-size: 14pt; font-weight: bold; color: #0098cd;\">Pregunta 4.</span>\n",
    "<span style=\"font-size: 14pt; font-weight: bold; color: #0098cd;\">Considerando dos grupos de comentarios (odio y no odio) ¿Cuál el número promedio de palabras en los comentarios de cada grupo?</span>"
   ]
  },
  {
   "cell_type": "code",
   "execution_count": 14,
   "metadata": {},
   "outputs": [
    {
     "name": "stdout",
     "output_type": "stream",
     "text": [
      "Promedio de palabras en comentarios de odio: 57.781288899953765\n",
      "Promedio de palabras en comentarios de no odio: 57.781288899953765\n"
     ]
    }
   ],
   "source": [
    "\n",
    "#####\n",
    "## A partir del ejercicio siguiente se usarán bastante las variables \"comentariosOdio\" y \"comentariosNoOdio\"\n",
    "#####\n",
    "comentariosOdio = data_20[data_20['ODIO'] == True]\n",
    "comentariosNoOdio = data_20[data_20['ODIO'] == False]\n",
    "\n",
    "#Función que devuelve el número de palabras de un comentario\n",
    "def palabrasPorGrupo(comentario):\n",
    "    palabras = comentario.split()\n",
    "    return len(palabras)\n",
    "\n",
    "mediaPalabrasOdio = comentariosOdio['CONTENIDO A ANALIZAR TOKENIZED'].apply(palabrasPorGrupo).mean()\n",
    "mediaPalabrasOdio = comentariosNoOdio['CONTENIDO A ANALIZAR TOKENIZED'].apply(palabrasPorGrupo).mean()\n",
    "\n",
    "print(\"Promedio de palabras en comentarios de odio:\", mediaPalabrasOdio)\n",
    "print(\"Promedio de palabras en comentarios de no odio:\", mediaPalabrasOdio)\n"
   ]
  },
  {
   "cell_type": "markdown",
   "metadata": {},
   "source": [
    "<b>Incluye aquí, debajo de la línea, la explicación de tu respuesta</b>\n",
    "<hr>\n",
    "\n",
    "<p>Se segregan los comentarios en dos grupos distintos del corpus utilizando la columna 'ODIO'. Se crea un DataFrame llamado comentariosOdio que contiene los comentarios etiquetados como negativos (valor True en la columna 'ODIO') y otro DataFrame llamado comentariosNoOdio que incluye los comentarios no etiquetados como negativos (valor False en la columna 'ODIO').</p>\n",
    "<p>Se establece una función denominada palabrasPorGrupo(comentario) que recibe un comentario como entrada y devuelve el número de palabras presentes en él. Esta función divide el comentario en palabras utilizando el método split() y luego determina la longitud de la lista resultante.</p>\n",
    "<p>Posteriormente, se aplica la función ContarPalabrasPorGrupo a la columna 'CONTENIDO A ANALIZAR TOKENIZED' tanto del DataFrame comentariosOdio como del comentariosNoOdio empleando el método apply(). Esto da lugar a una serie que indica la cantidad de palabras presentes en cada comentario.</p>\n",
    "<p>Se procede a calcular el promedio de palabras presentes en los comentarios de cada grupo utilizando el método mean().</p>\n",
    "\n",
    " "
   ]
  },
  {
   "cell_type": "markdown",
   "metadata": {},
   "source": [
    "<span style=\"font-size: 14pt; font-weight: bold; color: #0098cd;\">Pregunta 5.</span>\n",
    "<span style=\"font-size: 14pt; font-weight: bold; color: #0098cd;\">Considerando dos grupos de comentarios (odio y no odio) ¿Cuál es el número promedio de oraciones en los comentarios de cada grupo?</span>"
   ]
  },
  {
   "cell_type": "code",
   "execution_count": 15,
   "metadata": {},
   "outputs": [
    {
     "name": "stdout",
     "output_type": "stream",
     "text": [
      "Promedio de oraciones en comentarios de odio: 1.0671004473363155\n",
      "Promedio de oraciones en comentarios de no odio: 1.1080751858306364\n"
     ]
    }
   ],
   "source": [
    "\n",
    "# Función para contar el número de oraciones en un comentario\n",
    "def oracionesPorGrupo(comentario):\n",
    "    doc = nlp(comentario)\n",
    "    return len(list(doc.sents))\n",
    "\n",
    "print(\"Promedio de oraciones en comentarios de odio:\", \n",
    "      comentariosOdio['CONTENIDO A ANALIZAR TOKENIZED'].apply(oracionesPorGrupo).mean())\n",
    "print(\"Promedio de oraciones en comentarios de no odio:\", \n",
    "      comentariosNoOdio['CONTENIDO A ANALIZAR TOKENIZED'].apply(oracionesPorGrupo).mean())"
   ]
  },
  {
   "cell_type": "markdown",
   "metadata": {},
   "source": [
    "<b>Incluye aquí, debajo de la línea, la explicación de tu respuesta</b>\n",
    "<hr>\n",
    "<p>Se realiza el cálculo del promedio de oraciones en los comentarios de dos grupos diferentes, aquellos que contienen expresiones de odio y aquellos que no.</p>\n",
    "<p>Se ha establecido una función llamada oracionesPorGrupo(comentario)” que recibe un comentario como entrada, lo analiza utilizando el modelo PLN,especificado al principio, y cuenta la cantidad de oraciones en dicho comentario mediante la propiedad “sents” del objeto Doc en spaCy. Esta función devuelve el número total de oraciones presentes en el comentario.</p>\n",
    "<p>Posteriormente, se aplica la función “oracionesPorGrupo” a la columna 'CONTENIDO A ANALIZAR TOKENIZED' en ambos DataFrames (comentariosOdio y comentariosNoOdio) utilizando el método “apply()\". Esto genera una serie que refleja la cantidad de oraciones presentes en cada comentario.</p>\n",
    "<p>Luego, se calcula el promedio de oraciones en los comentarios de cada grupo mediante el uso del método “mean()\".</p>\n",
    "\n"
   ]
  },
  {
   "cell_type": "markdown",
   "metadata": {},
   "source": [
    "<span style=\"font-size: 14pt; font-weight: bold; color: #0098cd;\">Pregunta 6.</span>\n",
    "<span style=\"font-size: 14pt; font-weight: bold; color: #0098cd;\">Considerando dos grupos de comentarios (odio y no odio) ¿Cuál es el porcentaje de comentarios que contienen entidades NER en cada grupo?</span>"
   ]
  },
  {
   "cell_type": "code",
   "execution_count": 16,
   "metadata": {},
   "outputs": [
    {
     "name": "stdout",
     "output_type": "stream",
     "text": [
      "Porcentaje de comentarios con entidades NER en comentarios de odio: 40.30093533956893\n",
      "Porcentaje de comentarios con entidades NER en comentarios de no odio: 56.18842693032685\n"
     ]
    }
   ],
   "source": [
    "\n",
    "# Función para verificar si un comentario tiene entidades NER\n",
    "def comentariosConNER(comentario):\n",
    "    doc = nlp(comentario)\n",
    "    return any(ent.label_ for ent in doc.ents)\n",
    "\n",
    "\n",
    "print(\"Porcentaje de comentarios con entidades NER en comentarios de odio:\", \n",
    "      ((comentariosOdio['CONTENIDO A ANALIZAR TOKENIZED'].apply(comentariosConNER).sum() / len(comentariosOdio)) * 100))\n",
    "print(\"Porcentaje de comentarios con entidades NER en comentarios de no odio:\", \n",
    "      ((comentariosNoOdio['CONTENIDO A ANALIZAR TOKENIZED'].apply(comentariosConNER).sum() / len(comentariosNoOdio)) * 100))"
   ]
  },
  {
   "cell_type": "markdown",
   "metadata": {},
   "source": [
    "<b>Incluye aquí, debajo de la línea, la explicación de tu respuesta</b>\n",
    "<hr>\n",
    "\n",
    "<p>Se crea una función llamada comentariosConNER(comentario)” que recibe un comentario como entrada, lo procesa mediante un modelo pln especificado al principio, y verifica la presencia de entidades NER en dicho comentario utilizando la propiedad “ents” del objeto Doc en spaCy. Esta función devuelve True si encuentra entidades NER en el comentario, y False si no las encuentra.</p>\n",
    "<p>Posteriormente, se aplica la función “comentariosConNER” a la columna 'CONTENIDO A ANALIZAR TOKENIZED' tanto en los DataFrames correspondientes a los comentarios con odio como a los comentarios sin odio. Esto resulta en una serie que contiene valores booleanos indicando si cada comentario contiene entidades NER.</p>\n",
    "<p>Finalmente, se calcula el porcentaje de comentarios que contienen entidades NER en cada grupo dividiendo el número total de comentarios que contienen entidades NER entre el número total de comentarios en ese grupo. El resultado se multiplica por 100 para obtener el porcentaje correspondiente.</p>\n"
   ]
  },
  {
   "cell_type": "markdown",
   "metadata": {},
   "source": [
    "<span style=\"font-size: 14pt; font-weight: bold; color: #0098cd;\">Pregunta 7.</span>\n",
    "<span style=\"font-size: 14pt; font-weight: bold; color: #0098cd;\">Considerando dos grupos de comentarios (odio y no odio) ¿Cuál es el porcentaje de comentarios que contienen entidades NER de tipo PERSON en cada grupo?</span>"
   ]
  },
  {
   "cell_type": "code",
   "execution_count": 17,
   "metadata": {},
   "outputs": [
    {
     "name": "stdout",
     "output_type": "stream",
     "text": [
      "Porcentaje de comentarios con entidades NER de tipo PERSON en comentarios de odio: 27.572183814558766\n",
      "Porcentaje de comentarios con entidades NER de tipo PERSON en comentarios de no odio: 36.62108333036952\n"
     ]
    }
   ],
   "source": [
    "\n",
    "# Función para verificar si un comentario contiene entidades NER de tipo PERSON\n",
    "def cotienePersona(comentario):\n",
    "    doc = nlp(comentario)\n",
    "    return any(ent.label_ == \"PER\" for ent in doc.ents)\n",
    "\n",
    "print(\"Porcentaje de comentarios con entidades NER de tipo PERSON en comentarios de odio:\", \n",
    "      ((comentariosOdio['CONTENIDO A ANALIZAR TOKENIZED'].apply(cotienePersona).sum() / len(comentariosOdio)) * 100))\n",
    "print(\"Porcentaje de comentarios con entidades NER de tipo PERSON en comentarios de no odio:\", \n",
    "      ((comentariosNoOdio['CONTENIDO A ANALIZAR TOKENIZED'].apply(cotienePersona).sum() / len(comentariosNoOdio)) * 100))"
   ]
  },
  {
   "cell_type": "markdown",
   "metadata": {},
   "source": [
    "<b>Incluye aquí, debajo de la línea, la explicación de tu respuesta</b>\n",
    "<hr>\n",
    "\n",
    "<p>Se crea una función llamada “contienePersona(comentario)” que recibe como entrada un comentario, lo procesa mediante el modelo de pln, especificado al principio, y verifica si hay alguna entidad de tipo PERSON presente en el comentario utilizando la propiedad “ents” del objeto Doc de spaCy. Esta función devuelve Verdadero si encuentra entidades de tipo PERSON en el comentario, y Falso en caso contrario.</p>\n",
    "<p>La función “contienePersona” se aplica a la columna 'CONTENIDO A ANALIZAR TOKENIZED' en ambos DataFrames. Esto produce una serie que contiene valores booleanos que señalan si cada comentario incluye entidades de tipo PERSON.</p>\n",
    "<p>Se calcula el porcentaje de comentarios que contienen entidades de tipo PERSON en cada grupo dividiendo la cantidad de comentarios con entidades de tipo PERSON entre la cantidad total de comentarios en ese grupo, y multiplicando el resultado por 100 para obtener el porcentaje.</p>"
   ]
  },
  {
   "cell_type": "markdown",
   "metadata": {},
   "source": [
    "<span style=\"font-size: 14pt; font-weight: bold; color: #0098cd;\">Pregunta 8.</span>\n",
    "<span style=\"font-size: 14pt; font-weight: bold; color: #0098cd;\">Considerando dos grupos de comentarios (odio y no odio) ¿Cuál es el porcentaje de palabras en cada combinación posible de género y número (p.ej. masculino singular) en cada grupo?</span>"
   ]
  },
  {
   "cell_type": "code",
   "execution_count": 18,
   "metadata": {},
   "outputs": [
    {
     "name": "stdout",
     "output_type": "stream",
     "text": [
      "Porcentaje de palabras en cada combinación posible en comentarios de odio:\n",
      "('N', 'S') ; 12.788751255440243\n",
      "('Masc', 'Sing') ; 41.345831938399726\n",
      "('Fem', 'Sing') ; 39.772346836290595\n",
      "('N', 'Sing') ; 3.7495815199196514\n",
      "('Masc', 'Plur') ; 0.920656176765986\n",
      "('Fem', 'Plur') ; 0.5691329092735186\n",
      "('Fem', 'S') ; 0.36826247070639434\n",
      "('Masc', 'S') ; 0.4017408771342484\n",
      "('N', 'Plur') ; 0.08369601606963509\n",
      "\n",
      "Porcentaje de palabras en cada combinación posible en comentarios de no odio:\n",
      "('Masc', 'Sing') ; 42.092997105402524\n",
      "('Fem', 'Sing') ; 37.97721864730164\n",
      "('N', 'S') ; 15.546083225118432\n",
      "('Fem', 'S') ; 0.42938342897354237\n",
      "('N', 'Sing') ; 2.270109835102254\n",
      "('Fem', 'Plur') ; 0.45182744136445085\n",
      "('Masc', 'Plur') ; 0.7270046357087412\n",
      "('Masc', 'S') ; 0.4685584324194917\n",
      "('N', 'Plur') ; 0.036817248608924644\n"
     ]
    }
   ],
   "source": [
    "from collections import Counter\n",
    "\n",
    "# Función para contar el número de palabras en cada combinación posible de género y número\n",
    "def contadorGeneroNumero(dfComentarios):\n",
    "\n",
    "    combinaciones = Counter()\n",
    "\n",
    "    for comentario in dfComentarios:\n",
    "        doc = nlp(comentario)\n",
    "\n",
    "        for token in doc:\n",
    "            if token.pos_ == \"NOUN\":\n",
    "                generoNumero = (token.morph.get(\"Gender\", \"N\")[0], token.morph.get(\"Number\", \"S\")[0])\n",
    "                combinaciones[tuple(generoNumero)] += 1\n",
    "\n",
    "    totalPalabras = sum(combinaciones.values())\n",
    "    pctTotalPalabras = {generoNumero: (contador / totalPalabras) * 100 for generoNumero, contador in combinaciones.items()}\n",
    "    \n",
    "    return pctTotalPalabras\n",
    "\n",
    "pctCombinacionesOdio = contadorGeneroNumero(comentariosOdio['CONTENIDO A ANALIZAR TOKENIZED'])\n",
    "pctCombinacionesNoOdio = contadorGeneroNumero(comentariosNoOdio['CONTENIDO A ANALIZAR TOKENIZED'])\n",
    "\n",
    "print(\"Porcentaje de palabras en cada combinación posible en comentarios de odio:\")\n",
    "for clave, valor in pctCombinacionesOdio.items():\n",
    "    print(clave, ';', valor)\n",
    "\n",
    "print(\"\\nPorcentaje de palabras en cada combinación posible en comentarios de no odio:\")\n",
    "for clave, valor in pctCombinacionesNoOdio.items():\n",
    "    print(clave, ';', valor)"
   ]
  },
  {
   "cell_type": "markdown",
   "metadata": {},
   "source": [
    "<b>Incluye aquí, debajo de la línea, la explicación de tu respuesta</b>\n",
    "<hr>\n",
    "\n",
    "<p>Se crea una función llamada contadorGeneroNumero(dfComentarios) que recibe como entrada una serie de comentarios y cuenta la cantidad de palabras en cada combinación posible de género y número. Se emplea un objeto Counter para llevar a cabo este conteo.</p>\n",
    "<p>Para cada comentario, se procesa con PLN y se recorre los tokens. Si un token es un sustantivo (NOUN), se extrae su género y número a través de sus propiedades morfológicas (morph.get(\"Gender\") y morph.get(\"Number\")) para luego añadirlo al contador combinaciones.</p>\n",
    "<p>Se calcula el total de palabras en todas las combinaciones, así como el porcentaje correspondiente a cada combinación posible.</p>\n",
    "\n",
    "\n",
    " "
   ]
  },
  {
   "cell_type": "markdown",
   "metadata": {},
   "source": [
    "<span style=\"font-size: 14pt; font-weight: bold; color: #0098cd;\">Pregunta 9.</span>\n",
    "<span style=\"font-size: 14pt; font-weight: bold; color: #0098cd;\">Considerando dos grupos de comentarios (odio y no odio), indica cuántas entidades de cada tipo posible se reconocen en cada uno de los grupos</span>"
   ]
  },
  {
   "cell_type": "code",
   "execution_count": 23,
   "metadata": {},
   "outputs": [
    {
     "name": "stdout",
     "output_type": "stream",
     "text": [
      "Entidades por tipo en comentarios de odio:\n",
      "Counter({'PER': 862, 'MISC': 222, 'LOC': 178, 'ORG': 102})\n",
      "\n",
      "Entidades por tipo en comentarios de no odio:\n",
      "Counter({'PER': 158435, 'LOC': 72165, 'MISC': 42466, 'ORG': 31312})\n"
     ]
    }
   ],
   "source": [
    "# Función para contar el número de entidades de cada tipo posible en un grupo de comentarios\n",
    "def entidadesPorGrupo(dfComentarios):\n",
    "    contadorEntidades = Counter()\n",
    "    for comentario in dfComentarios:\n",
    "        doc = nlp(comentario)\n",
    "        for ent in doc.ents:\n",
    "            contadorEntidades[ent.label_] += 1\n",
    "    return contadorEntidades\n",
    "\n",
    "\n",
    "print(\"Entidades por tipo en comentarios de odio:\")\n",
    "print(entidadesPorGrupo(comentariosOdio['CONTENIDO A ANALIZAR TOKENIZED']))\n",
    "print(\"\\nEntidades por tipo en comentarios de no odio:\")\n",
    "print(entidadesPorGrupo(comentariosNoOdio['CONTENIDO A ANALIZAR TOKENIZED']))\n"
   ]
  },
  {
   "cell_type": "markdown",
   "metadata": {},
   "source": [
    "<b>Incluye aquí, debajo de la línea, la explicación de tu respuesta</b>\n",
    "<hr>\n",
    "\n",
    "<p>Se crea una función llamada entidadesPorGrupo(dfComentarios) que recibe una serie de comentarios como entrada y cuenta cuántas entidades hay en cada categoría posible.</p>\n",
    "<p>Para cada comentario, se aplica el análisis con nlp y se recorre las entidades reconocidas en dicho comentario (doc.ents). Por cada entidad, se incrementa el contador correspondiente al tipo de entidad (ent.label_) en el objeto contadorEntidades.</p>\n",
    "<p>Se invoca la función entidadesPorGrupo tanto para los comentarios relacionados con sentimientos negativos, como para los comentarios sin relación con sentimientos negativos</p>\n"
   ]
  },
  {
   "cell_type": "markdown",
   "metadata": {},
   "source": [
    "<span style=\"font-size: 14pt; font-weight: bold; color: #0098cd;\">Pregunta 10.</span>\n",
    "<span style=\"font-size: 14pt; font-weight: bold; color: #0098cd;\">Considerando dos grupos de comentarios (odio y no odio), extrae y muestra los 100 lemas más repetidos en los comentarios de cada grupo</span>"
   ]
  },
  {
   "cell_type": "code",
   "execution_count": 24,
   "metadata": {},
   "outputs": [
    {
     "name": "stdout",
     "output_type": "stream",
     "text": [
      "100 lemas más comunes en comentarios de odio:\n",
      "puta - 137\n",
      "informativo - 124\n",
      "españa - 121\n",
      "hijo - 121\n",
      "asco - 120\n",
      "mierda - 116\n",
      "gobierno - 112\n",
      "español - 110\n",
      "mierdar - 93\n",
      "basura - 86\n",
      "terrorismo - 85\n",
      "q - 82\n",
      "gente - 80\n",
      "país - 77\n",
      "tonto - 70\n",
      "pagar - 64\n",
      "político - 62\n",
      "dejar - 62\n",
      "terrorista - 61\n",
      "vergüenza - 59\n",
      "gentuza - 56\n",
      "panfleto - 54\n",
      "madrid - 53\n",
      "puto - 53\n",
      "miserable - 52\n",
      "madre - 51\n",
      "culo - 51\n",
      "putar - 51\n",
      "salir - 50\n",
      "pasar - 49\n",
      "año - 47\n",
      "mundo - 47\n",
      "mentiroso - 47\n",
      "comunista - 46\n",
      "mujer - 42\n",
      "asqueroso - 42\n",
      "i - 41\n",
      "cárcel - 40\n",
      "catalán - 40\n",
      "ja - 40\n",
      "importar - 39\n",
      "noticia - 39\n",
      "vox - 36\n",
      "vida - 36\n",
      "pensar - 35\n",
      "dinero - 33\n",
      "persona - 33\n",
      "dais - 33\n",
      "querer - 33\n",
      "gilipol - 33\n",
      "sánchez - 32\n",
      "fascista - 32\n",
      "racista - 32\n",
      "derecho - 31\n",
      "seguir - 31\n",
      "facha - 31\n",
      "calle - 31\n",
      "esperar - 30\n",
      "llamar - 29\n",
      "cobarde - 29\n",
      "tomar - 29\n",
      "tiempo - 29\n",
      "creer - 29\n",
      "asesino - 29\n",
      "votar - 29\n",
      "llegar - 28\n",
      "partido - 28\n",
      "cosa - 28\n",
      "deber - 28\n",
      "per - 28\n",
      "maldito - 28\n",
      "catalanisme - 27\n",
      "venir - 27\n",
      "hombre - 27\n",
      "trump - 27\n",
      "delincuente - 26\n",
      "hablar - 26\n",
      "quedar - 26\n",
      "periódico - 26\n",
      "periodismo - 26\n",
      "inútil - 26\n",
      "payaso - 25\n",
      "joder - 25\n",
      "mirar - 25\n",
      "ladrón - 25\n",
      "malo - 24\n",
      "titular - 24\n",
      "muerto - 24\n",
      "ganar - 24\n",
      "jeta - 24\n",
      "pp - 23\n",
      "sinvergüenza - 23\n",
      "meter - 23\n",
      "faltar - 23\n",
      "loco - 23\n",
      "acabar - 23\n",
      "ayuso - 22\n",
      "caso - 22\n",
      "pedir - 22\n",
      "caer - 22\n",
      "\n",
      "100 lemas más comunes en comentarios de no odio:\n",
      "año - 38742\n",
      "caso - 16581\n",
      "persona - 16469\n",
      "españa - 16164\n",
      "gobierno - 15761\n",
      "país - 12541\n",
      "millón - 12189\n",
      "hora - 11469\n",
      "seguir - 11420\n",
      "llegar - 11244\n",
      "español - 11163\n",
      "tiempo - 10843\n",
      "público - 10665\n",
      "centro - 10609\n",
      "i - 10509\n",
      "momento - 10346\n",
      "euros - 10142\n",
      "pasar - 10140\n",
      "madrid - 9854\n",
      "recibir - 9766\n",
      "mes - 9640\n",
      "quedar - 9349\n",
      "mundo - 9244\n",
      "dejar - 9189\n",
      "vida - 9134\n",
      "social - 9086\n",
      "explicar - 8791\n",
      "comunidad - 8508\n",
      "trabajar - 8498\n",
      "querer - 8318\n",
      "semana - 8291\n",
      "equipo - 8246\n",
      "servicio - 8116\n",
      "grupo - 7925\n",
      "zona - 7897\n",
      "forma - 7865\n",
      "partido - 7733\n",
      "punto - 7688\n",
      "ciudad - 7674\n",
      "situación - 7578\n",
      "encontrar - 7512\n",
      "volver - 7504\n",
      "permitir - 7385\n",
      "político - 7354\n",
      "lugar - 7298\n",
      "mantener - 7245\n",
      "proyecto - 7166\n",
      "empresa - 7154\n",
      "mujer - 6952\n",
      "recordar - 6882\n",
      "salir - 6859\n",
      "pedir - 6858\n",
      "deber - 6703\n",
      "esperar - 6561\n",
      "trabajo - 6470\n",
      "alto - 6397\n",
      "presidente - 6386\n",
      "dato - 6355\n",
      "salud - 6353\n",
      "real - 6323\n",
      "casa - 6252\n",
      "mostrar - 6188\n",
      "general - 6176\n",
      "cambio - 6170\n",
      "derecho - 6168\n",
      "nacional - 6158\n",
      "número - 6069\n",
      "sanitario - 5987\n",
      "importante - 5971\n",
      "gente - 5930\n",
      "problema - 5928\n",
      "vivir - 5888\n",
      "ayuntamiento - 5848\n",
      "venir - 5824\n",
      "nivel - 5720\n",
      "cosa - 5671\n",
      "obra - 5644\n",
      "señalar - 5615\n",
      "plan - 5603\n",
      "sistema - 5533\n",
      "acabar - 5429\n",
      "tipo - 5420\n",
      "tomar - 5414\n",
      "actividad - 5408\n",
      "presentar - 5385\n",
      "pandemio - 5374\n",
      "ganar - 5368\n",
      "medida - 5347\n",
      "contar - 5315\n",
      "sector - 5254\n",
      "formar - 5214\n",
      "objetivo - 5171\n",
      "frente - 5105\n",
      "faltar - 5040\n",
      "empezar - 5038\n",
      "seguridad - 4997\n",
      "apuntar - 4991\n",
      "per - 4977\n",
      "europa - 4974\n",
      "joven - 4933\n"
     ]
    }
   ],
   "source": [
    "\n",
    "# Función para obtener los lemas de los tokens en un comentario\n",
    "def obtenerLemas(comentario):\n",
    "    doc = nlp(comentario)\n",
    "    \n",
    "    return [token.lemma_ for token in doc if token.is_alpha and not token.is_stop]\n",
    "\n",
    "# Función para obtener los 100 lemas más comunes en un grupo de comentarios\n",
    "def lemasComunes(dfComentarios):\n",
    "    lemas = []\n",
    "\n",
    "    for comentario in dfComentarios:\n",
    "        lemas.extend(obtenerLemas(comentario))\n",
    "    contadorLemas = Counter(lemas)\n",
    "\n",
    "    return contadorLemas.most_common(100)\n",
    "\n",
    "\n",
    "lemas_odio = lemasComunes(comentariosOdio['CONTENIDO A ANALIZAR TOKENIZED'])\n",
    "lemas_no_odio = lemasComunes(comentariosNoOdio['CONTENIDO A ANALIZAR TOKENIZED'])\n",
    "\n",
    "print(\"100 lemas más comunes en comentarios de odio:\")\n",
    "for lema, cantidad in lemas_odio:\n",
    "    print(lema, \"-\", cantidad)\n",
    "\n",
    "print(\"\\n100 lemas más comunes en comentarios de no odio:\")\n",
    "for lema, cantidad in lemas_no_odio:\n",
    "    print(lema, \"-\", cantidad)"
   ]
  },
  {
   "cell_type": "markdown",
   "metadata": {},
   "source": [
    "<b>Incluye aquí, debajo de la línea, la explicación de tu respuesta</b>\n",
    "<hr>\n",
    "<p>Se crea una función llamada obtenerLemas(comentario) que recibe un comentario como entrada y retorna una lista de los lemas de las palabras en el comentario que son alfabéticas y no son stopwords.</p>\n",
    "<p>Se establece otra función denominada lemasComunes(dfComentarios) que recibe una serie de comentarios como entrada. Dentro de esta función, se itera sobre cada comentario en el grupo correspondiente. Para cada comentario, se obtienen los lemas utilizando la función obtenerLemas y se añaden a una lista llamada lemas.</p> <p>Posteriormente, se emplea un objeto Counter para contar la frecuencia de cada lema en la lista generada. Finalmente, se presentan los 100 lemas más comunes utilizando el método most_common(100) del objeto Counter.\n",
    "<p>Se invoca la función lemasComunes para analizar tanto los comentarios asociados al odio, como a los de sin odio.</p>\n",
    "\n",
    " "
   ]
  },
  {
   "cell_type": "markdown",
   "metadata": {},
   "source": [
    "<span style=\"font-size: 14pt; font-weight: bold; color: #0098cd;\">Pregunta 11.</span>\n",
    "<span style=\"font-size: 14pt; font-weight: bold; color: #0098cd;\">¿Es posible utilizar alguna de las características extraídas en las preguntas anteriores para determinar si un mensaje contiene odio? Justifica tu respuesta con el análisis estadístico que consideres necesario.</span>"
   ]
  },
  {
   "cell_type": "markdown",
   "metadata": {},
   "source": [
    "<b>Incluye aquí, debajo de la línea, la explicación de tu respuesta</b>\n",
    "<hr>\n",
    "<p>Sí, se puedeun utilizar algunas de las características extraídas en las cuestiones anteriores para determinar si un comentario contiene odio o no. A continuación se detallan 3 casos de interés: </p>\n",
    "\n",
    "<ul>\n",
    "  <li><p>Porcentaje de comentarios que incluyen entidades NER: También notamos que la proporción de comentarios que contienen entidades NER en los comentarios negativos es menor en comparación con los comentarios que no están relacionados con el odio. Esto podría sugerir que los mensajes de odio tienden a tener menos información detallada o menos menciones a entidades específicas.</p></li>\n",
    "\n",
    "  <li><p>Porcentaje de comentarios que contienen entidades NER del tipo PERSONA: De manera similar al punto anterior, la proporción de comentarios que contienen entidades NER del tipo PERSONA es menor en los comentarios de odio en comparación con los comentarios no relacionados con el odio. Esto podría indicar una menor frecuencia de menciones específicas a personas en los mensajes de odio.</p></li>\n",
    "\n",
    "  <li><p>Los lemas más frecuentes en los comentarios negativos pueden ser distintos a aquellos presentes comúnmente en los comentarios sin relación al odio. Por ejemplo, ciertas expresiones ofensivas o términos específicos podrían ser más recurrentes en los mensajes cargados de odio.</p></li>\n",
    "\n",
    "</ul>\n",
    " "
   ]
  }
 ],
 "metadata": {
  "kernelspec": {
   "display_name": "Python 3 (ipykernel)",
   "language": "python",
   "name": "python3"
  },
  "language_info": {
   "codemirror_mode": {
    "name": "ipython",
    "version": 3
   },
   "file_extension": ".py",
   "mimetype": "text/x-python",
   "name": "python",
   "nbconvert_exporter": "python",
   "pygments_lexer": "ipython3",
   "version": "3.9.5"
  }
 },
 "nbformat": 4,
 "nbformat_minor": 4
}
